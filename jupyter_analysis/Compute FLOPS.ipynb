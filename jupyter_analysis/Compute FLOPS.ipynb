{
 "cells": [
  {
   "cell_type": "code",
   "execution_count": 3,
   "id": "84c37702",
   "metadata": {},
   "outputs": [],
   "source": [
    "import numpy as np"
   ]
  },
  {
   "cell_type": "code",
   "execution_count": 21,
   "id": "18786a90",
   "metadata": {},
   "outputs": [],
   "source": [
    "def compute_flops(before_grow = 1395898880, after_grow = 5.590e+09, n_students=2, grow=63):  ## after = 4x before\n",
    "    epochs = 100\n",
    "    our_flops_by_epochs = np.array([before_grow * n_students] * grow + [after_grow] * (epochs - grow))\n",
    "    our_flops = our_flops_by_epochs.cumsum()\n",
    "    return our_flops"
   ]
  },
  {
   "cell_type": "code",
   "execution_count": 35,
   "id": "b0e91e52",
   "metadata": {},
   "outputs": [],
   "source": [
    "def compute_flops_steps(before_grow = 1395898880, after_grow = 5.590e+09, n_students=2, grow_steps = 0):  ## after = 4x before\n",
    "    epochs = 100\n",
    "    grow = int(grow_steps/ 391)\n",
    "    our_flops_by_epochs = np.array([before_grow * n_students] * grow + [after_grow] * (epochs - grow))\n",
    "    our_flops = our_flops_by_epochs.cumsum()\n",
    "    return our_flops"
   ]
  },
  {
   "cell_type": "code",
   "execution_count": 36,
   "id": "a8c34771",
   "metadata": {},
   "outputs": [
    {
     "data": {
      "text/plain": [
       "0.8724513076207513"
      ]
     },
     "execution_count": 36,
     "metadata": {},
     "output_type": "execute_result"
    }
   ],
   "source": [
    "compute_flops_steps(grow_steps=7000, n_students=1)[-1]/compute_flops(grow=0)[-1]"
   ]
  },
  {
   "cell_type": "code",
   "execution_count": 37,
   "id": "47851997",
   "metadata": {},
   "outputs": [
    {
     "data": {
      "text/plain": [
       "0.7899198007871199"
      ]
     },
     "execution_count": 37,
     "metadata": {},
     "output_type": "execute_result"
    }
   ],
   "source": [
    "compute_flops_steps(grow_steps=11000, n_students=1)[-1]/compute_flops(grow=0)[-1]"
   ]
  },
  {
   "cell_type": "code",
   "execution_count": 38,
   "id": "1b767cb5",
   "metadata": {},
   "outputs": [
    {
     "data": {
      "text/plain": [
       "0.7148911582110913"
      ]
     },
     "execution_count": 38,
     "metadata": {},
     "output_type": "execute_result"
    }
   ],
   "source": [
    "compute_flops_steps(grow_steps=15000, n_students=1)[-1]/compute_flops(grow=0)[-1]"
   ]
  },
  {
   "cell_type": "code",
   "execution_count": 39,
   "id": "11431a54",
   "metadata": {},
   "outputs": [
    {
     "data": {
      "text/plain": [
       "0.6848797011806798"
      ]
     },
     "execution_count": 39,
     "metadata": {},
     "output_type": "execute_result"
    }
   ],
   "source": [
    "compute_flops_steps(grow_steps=16422, n_students=1)[-1]/compute_flops(grow=0)[-1]"
   ]
  },
  {
   "cell_type": "code",
   "execution_count": 40,
   "id": "03e39be2",
   "metadata": {},
   "outputs": [
    {
     "data": {
      "text/plain": [
       "0.6398625156350626"
      ]
     },
     "execution_count": 40,
     "metadata": {},
     "output_type": "execute_result"
    }
   ],
   "source": [
    "compute_flops_steps(grow_steps=19000, n_students=1)[-1]/compute_flops(grow=0)[-1]"
   ]
  },
  {
   "cell_type": "code",
   "execution_count": 41,
   "id": "3b7a440e",
   "metadata": {},
   "outputs": [
    {
     "data": {
      "text/plain": [
       "0.5348224160286226"
      ]
     },
     "execution_count": 41,
     "metadata": {},
     "output_type": "execute_result"
    }
   ],
   "source": [
    "compute_flops_steps(grow_steps=24570, n_students=1)[-1]/compute_flops(grow=0)[-1]"
   ]
  },
  {
   "cell_type": "code",
   "execution_count": 24,
   "id": "6f3126a4",
   "metadata": {},
   "outputs": [
    {
     "data": {
      "text/plain": [
       "0.909896886726297"
      ]
     },
     "execution_count": 24,
     "metadata": {},
     "output_type": "execute_result"
    }
   ],
   "source": [
    "compute_flops(grow=18, n_students=2)[-1]/compute_flops(grow=0)[-1]"
   ]
  },
  {
   "cell_type": "code",
   "execution_count": 42,
   "id": "fdb3984a",
   "metadata": {},
   "outputs": [
    {
     "data": {
      "text/plain": [
       "0.8648453300894454"
      ]
     },
     "execution_count": 42,
     "metadata": {},
     "output_type": "execute_result"
    }
   ],
   "source": [
    "compute_flops(grow=27, n_students=2)[-1]/compute_flops(grow=0)[-1]"
   ]
  },
  {
   "cell_type": "code",
   "execution_count": 43,
   "id": "ad37f4da",
   "metadata": {},
   "outputs": [
    {
     "data": {
      "text/plain": [
       "0.8598396015742397"
      ]
     },
     "execution_count": 43,
     "metadata": {},
     "output_type": "execute_result"
    }
   ],
   "source": [
    "compute_flops(grow=28, n_students=2)[-1]/compute_flops(grow=0)[-1]"
   ]
  },
  {
   "cell_type": "code",
   "execution_count": 44,
   "id": "d73df1bf",
   "metadata": {},
   "outputs": [
    {
     "data": {
      "text/plain": [
       "0.8097823164221825"
      ]
     },
     "execution_count": 44,
     "metadata": {},
     "output_type": "execute_result"
    }
   ],
   "source": [
    "compute_flops(grow=38, n_students=2)[-1]/compute_flops(grow=0)[-1]"
   ]
  },
  {
   "cell_type": "code",
   "execution_count": 52,
   "id": "eaad884a",
   "metadata": {},
   "outputs": [
    {
     "data": {
      "text/plain": [
       "0.7897594023613596"
      ]
     },
     "execution_count": 52,
     "metadata": {},
     "output_type": "execute_result"
    }
   ],
   "source": [
    "compute_flops(grow=42, n_students=2)[-1]/compute_flops(grow=0)[-1]"
   ]
  },
  {
   "cell_type": "code",
   "execution_count": 46,
   "id": "c3a96f92",
   "metadata": {},
   "outputs": [
    {
     "data": {
      "text/plain": [
       "0.7547193027549195"
      ]
     },
     "execution_count": 46,
     "metadata": {},
     "output_type": "execute_result"
    }
   ],
   "source": [
    "compute_flops(grow=49, n_students=2)[-1]/compute_flops(grow=0)[-1]"
   ]
  },
  {
   "cell_type": "code",
   "execution_count": 47,
   "id": "cea33228",
   "metadata": {},
   "outputs": [
    {
     "data": {
      "text/plain": [
       "0.7146734746332737"
      ]
     },
     "execution_count": 47,
     "metadata": {},
     "output_type": "execute_result"
    }
   ],
   "source": [
    "compute_flops(grow=57, n_students=2)[-1]/compute_flops(grow=0)[-1]"
   ]
  },
  {
   "cell_type": "code",
   "execution_count": 48,
   "id": "3f13478e",
   "metadata": {},
   "outputs": [
    {
     "data": {
      "text/plain": [
       "0.6846391035420394"
      ]
     },
     "execution_count": 48,
     "metadata": {},
     "output_type": "execute_result"
    }
   ],
   "source": [
    "compute_flops(grow=63, n_students=2)[-1]/compute_flops(grow=0)[-1]"
   ]
  },
  {
   "cell_type": "code",
   "execution_count": 53,
   "id": "072702e8",
   "metadata": {},
   "outputs": [
    {
     "data": {
      "text/plain": [
       "0.6295760898747764"
      ]
     },
     "execution_count": 53,
     "metadata": {},
     "output_type": "execute_result"
    }
   ],
   "source": [
    "compute_flops(grow=74, n_students=2)[-1]/compute_flops(grow=0)[-1]"
   ]
  },
  {
   "cell_type": "code",
   "execution_count": 50,
   "id": "f90ca401",
   "metadata": {},
   "outputs": [
    {
     "data": {
      "text/plain": [
       "0.5294615195706619"
      ]
     },
     "execution_count": 50,
     "metadata": {},
     "output_type": "execute_result"
    }
   ],
   "source": [
    "compute_flops(grow=94, n_students=2)[-1]/compute_flops(grow=0)[-1]"
   ]
  },
  {
   "cell_type": "code",
   "execution_count": 11,
   "id": "6d799e0e",
   "metadata": {},
   "outputs": [
    {
     "data": {
      "text/plain": [
       "42.0"
      ]
     },
     "execution_count": 11,
     "metadata": {},
     "output_type": "execute_result"
    }
   ],
   "source": [
    "16422./(391)"
   ]
  },
  {
   "cell_type": "code",
   "execution_count": 15,
   "id": "7b2de331",
   "metadata": {},
   "outputs": [],
   "source": [
    "random_acc = (77.58 + 78.2 + 77.7)/3."
   ]
  },
  {
   "cell_type": "code",
   "execution_count": 16,
   "id": "3b9d33e2",
   "metadata": {},
   "outputs": [],
   "source": [
    "firefly_acc = (77.73 + 77.9 + 77.49)/3."
   ]
  },
  {
   "cell_type": "code",
   "execution_count": 17,
   "id": "5945a2c4",
   "metadata": {},
   "outputs": [],
   "source": [
    "gradmax_acc = (77.61 + 78.32 + 77.74)/3."
   ]
  },
  {
   "cell_type": "code",
   "execution_count": 18,
   "id": "5df70903",
   "metadata": {},
   "outputs": [
    {
     "data": {
      "text/plain": [
       "77.82666666666667"
      ]
     },
     "execution_count": 18,
     "metadata": {},
     "output_type": "execute_result"
    }
   ],
   "source": [
    "random_acc"
   ]
  },
  {
   "cell_type": "code",
   "execution_count": 19,
   "id": "c9db2645",
   "metadata": {},
   "outputs": [
    {
     "data": {
      "text/plain": [
       "77.70666666666666"
      ]
     },
     "execution_count": 19,
     "metadata": {},
     "output_type": "execute_result"
    }
   ],
   "source": [
    "firefly_acc"
   ]
  },
  {
   "cell_type": "code",
   "execution_count": 20,
   "id": "827103fe",
   "metadata": {},
   "outputs": [
    {
     "data": {
      "text/plain": [
       "77.89"
      ]
     },
     "execution_count": 20,
     "metadata": {},
     "output_type": "execute_result"
    }
   ],
   "source": [
    "gradmax_acc"
   ]
  },
  {
   "cell_type": "code",
   "execution_count": null,
   "id": "25785035",
   "metadata": {},
   "outputs": [],
   "source": []
  }
 ],
 "metadata": {
  "kernelspec": {
   "display_name": "Python 3 (ipykernel)",
   "language": "python",
   "name": "python3"
  },
  "language_info": {
   "codemirror_mode": {
    "name": "ipython",
    "version": 3
   },
   "file_extension": ".py",
   "mimetype": "text/x-python",
   "name": "python",
   "nbconvert_exporter": "python",
   "pygments_lexer": "ipython3",
   "version": "3.8.13"
  }
 },
 "nbformat": 4,
 "nbformat_minor": 5
}
