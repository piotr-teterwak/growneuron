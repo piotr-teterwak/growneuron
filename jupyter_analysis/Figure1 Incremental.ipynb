{
 "cells": [
  {
   "cell_type": "code",
   "execution_count": 15,
   "id": "43674d97",
   "metadata": {},
   "outputs": [],
   "source": [
    "%matplotlib inline\n",
    "\n",
    "import os\n",
    "import tensorflow as tf\n",
    "import torch\n",
    "from tensorflow.python.summary.summary_iterator import summary_iterator\n",
    "import matplotlib.pyplot as plt"
   ]
  },
  {
   "cell_type": "code",
   "execution_count": 2,
   "id": "8b9b6a8c",
   "metadata": {},
   "outputs": [],
   "source": [
    "def parse_eventfiles(summary_dir): \n",
    "    step_acc_list = []\n",
    "    for filename in os.listdir(summary_dir):\n",
    "        sum_iter =  summary_iterator(os.path.join(summary_dir,filename))\n",
    "        for summ in sum_iter:\n",
    "            if summ.HasField('summary'):\n",
    "                if summ.summary.value[0].tag == 'test/accuracy':\n",
    "                    step_acc_list.append((summ.step,(tf.make_ndarray(summ.summary.value[0].tensor) * 100)))\n",
    "\n",
    "                    \n",
    "    return sorted(step_acc_list, key=lambda x: x[0])"
   ]
  },
  {
   "cell_type": "code",
   "execution_count": 3,
   "id": "13a159e6",
   "metadata": {},
   "outputs": [
    {
     "name": "stdout",
     "output_type": "stream",
     "text": [
      "/projectnb/ivc-ml/piotrt/gradmax/growneuron/jupyter_analysis\n"
     ]
    }
   ],
   "source": [
    "cd /projectnb/ivc-ml/piotrt/gradmax/growneuron/jupyter_analysis\n"
   ]
  },
  {
   "cell_type": "code",
   "execution_count": 4,
   "id": "af6d1a2b",
   "metadata": {},
   "outputs": [
    {
     "name": "stdout",
     "output_type": "stream",
     "text": [
      "WARNING:tensorflow:From /share/pkg.7/tensorflow/2.8.0/install/lib/SCC/../python3.8/site-packages/tensorflow/python/summary/summary_iterator.py:27: tf_record_iterator (from tensorflow.python.lib.io.tf_record) is deprecated and will be removed in a future version.\n",
      "Instructions for updating:\n",
      "Use eager execution and: \n",
      "`tf.data.TFRecordDataset(path)`\n"
     ]
    }
   ],
   "source": [
    "acc_gradmax = list(zip(*parse_eventfiles('../outputs/cifar/24570_single/gm_gradmax_cifar/summaries/')))[1]\n",
    "acc_firefly = list(zip(*parse_eventfiles('../outputs/cifar/24570_single/gm_firefly_cifar/summaries/')))[1]\n",
    "acc_random = list(zip(*parse_eventfiles('../outputs/cifar/24570_single/gm_random_cifar/summaries/')))[1]"
   ]
  },
  {
   "cell_type": "code",
   "execution_count": 5,
   "id": "243d0e21",
   "metadata": {},
   "outputs": [
    {
     "data": {
      "text/plain": [
       "(16.266025602817535,\n",
       " 23.67788404226303,\n",
       " 22.04527258872986,\n",
       " 37.12940812110901,\n",
       " 38.52163553237915,\n",
       " 39.11257982254028,\n",
       " 40.334534645080566,\n",
       " 46.35416567325592,\n",
       " 48.58773946762085,\n",
       " 44.821715354919434,\n",
       " 50.661057233810425,\n",
       " 51.82291865348816,\n",
       " 48.15705120563507,\n",
       " 47.86658585071564,\n",
       " 53.23517918586731,\n",
       " 54.5973539352417,\n",
       " 55.83934187889099,\n",
       " 55.69911599159241,\n",
       " 54.85777258872986,\n",
       " 54.957932233810425,\n",
       " 49.338942766189575,\n",
       " 54.74759340286255,\n",
       " 56.99118375778198,\n",
       " 58.774036169052124,\n",
       " 59.35496687889099,\n",
       " 60.60696840286255,\n",
       " 56.88101053237915,\n",
       " 59.74559187889099,\n",
       " 60.46674847602844,\n",
       " 57.23156929016113,\n",
       " 61.24799847602844,\n",
       " 58.96434187889099,\n",
       " 60.95753312110901,\n",
       " 61.708736419677734,\n",
       " 54.787659645080566,\n",
       " 57.10136294364929,\n",
       " 64.10256624221802,\n",
       " 63.661861419677734,\n",
       " 63.571715354919434,\n",
       " 62.84054517745972,\n",
       " 65.05408883094788,\n",
       " 64.85376358032227,\n",
       " 55.92948794364929,\n",
       " 54.196715354919434,\n",
       " 64.88381624221802,\n",
       " 65.95553159713745,\n",
       " 63.98237347602844,\n",
       " 65.7151460647583,\n",
       " 62.96073794364929,\n",
       " 67.52804517745972,\n",
       " 67.0973539352417,\n",
       " 63.100963830947876,\n",
       " 62.56009340286255,\n",
       " 64.61338400840759,\n",
       " 67.2776460647583,\n",
       " 65.46474099159241,\n",
       " 68.60977411270142,\n",
       " 67.95873641967773,\n",
       " 69.61137652397156,\n",
       " 65.36458134651184,\n",
       " 67.8786039352417,\n",
       " 66.3161039352417,\n",
       " 68.17908883094788,\n",
       " 68.78004670143127,\n",
       " 69.88180875778198,\n",
       " 71.33413553237915,\n",
       " 71.60456776618958,\n",
       " 72.45593070983887,\n",
       " 73.63781929016113,\n",
       " 72.60617017745972,\n",
       " 73.046875,\n",
       " 74.52924847602844,\n",
       " 73.16706776618958,\n",
       " 75.45071840286255,\n",
       " 75.79126358032227,\n",
       " 76.06169581413269,\n",
       " 76.63261294364929,\n",
       " 77.16346383094788,\n",
       " 77.01321840286255,\n",
       " 77.56410241127014,\n",
       " 77.52403616905212,\n",
       " 77.734375,\n",
       " 77.68429517745972,\n",
       " 77.71434187889099,\n",
       " 77.80448794364929,\n",
       " 77.78445482254028,\n",
       " 77.80448794364929,\n",
       " 77.72436141967773,\n",
       " 77.95472741127014,\n",
       " 78.15504670143127,\n",
       " 78.09495329856873,\n",
       " 78.16506624221802,\n",
       " 78.08493375778198,\n",
       " 78.17507982254028,\n",
       " 78.02484035491943,\n",
       " 78.13501358032227,\n",
       " 78.14503312110901,\n",
       " 78.11498641967773,\n",
       " 78.07492017745972,\n",
       " 78.09495329856873)"
      ]
     },
     "execution_count": 5,
     "metadata": {},
     "output_type": "execute_result"
    }
   ],
   "source": [
    "acc_random"
   ]
  },
  {
   "cell_type": "code",
   "execution_count": 6,
   "id": "1e54e0aa",
   "metadata": {},
   "outputs": [
    {
     "name": "stdout",
     "output_type": "stream",
     "text": [
      "/projectnb/ivc-ml/chaupham/anytime/param_share/incremental_training\n"
     ]
    }
   ],
   "source": [
    "cd /projectnb/ivc-ml/chaupham/anytime/param_share/incremental_training/"
   ]
  },
  {
   "cell_type": "code",
   "execution_count": 8,
   "id": "e7dae108",
   "metadata": {},
   "outputs": [
    {
     "name": "stdout",
     "output_type": "stream",
     "text": [
      "\u001b[0m\u001b[01;34mA\u001b[0m/\r\n",
      "\u001b[01;34m__cifar100_full_ens_28bins\u001b[0m/\r\n",
      "\u001b[01;34m__cifar100_ours_slim_depth_28bins\u001b[0m/\r\n",
      "\u001b[01;34m__cifar100_ours_slim_mix_28bins\u001b[0m/\r\n",
      "\u001b[01;34m__cifar100_ours_slim_mix_29bins\u001b[0m/\r\n",
      "\u001b[01;34mbaseline-c100-large-amp-ffcv\u001b[0m/\r\n",
      "\u001b[01;34mbaseline-c100-large-amp-ffcv-2\u001b[0m/\r\n",
      "\u001b[01;34mbaseline-c100-large-noamp-ffcv\u001b[0m/\r\n",
      "\u001b[01;34mbaseline-c100-small-amp-ffcv\u001b[0m/\r\n",
      "\u001b[01;34mbaseline-c100-small-noamp-ffcv\u001b[0m/\r\n",
      "\u001b[01;34mbaseline-imagenet-big\u001b[0m/\r\n",
      "\u001b[01;34mbaseline-imagenet-big-1\u001b[0m/\r\n",
      "\u001b[01;34mbaseline-imagenet-fullensemble\u001b[0m/\r\n",
      "\u001b[01;34mbaseline-imagenet-fullensemble-1\u001b[0m/\r\n",
      "\u001b[01;34mbaseline-imagenet-gradmax-halfseed\u001b[0m/\r\n",
      "\u001b[01;34mbaseline-imagenet-gradmax-halfseed-nogminit\u001b[0m/\r\n",
      "\u001b[01;34mbaseline-imagenet-randinit\u001b[0m/\r\n",
      "\u001b[01;34mbaseline-imagenet-randinit-1\u001b[0m/\r\n",
      "\u001b[01;34mbaseline-imagenet-small\u001b[0m/\r\n",
      "\u001b[01;34mbaselinestd-nogrow-ens2of-28-2\u001b[0m/\r\n",
      "\u001b[01;34mcifar100_full_ens_29bins_2students\u001b[0m/\r\n",
      "\u001b[01;34mcifar100_ours_ens_bank_size_8_v2\u001b[0m/\r\n",
      "\u001b[01;34mcifar100_ours_ens_bank_size_8_v2_grow_18\u001b[0m/\r\n",
      "\u001b[01;34mcifar100_ours_ens_bank_size_8_v2_grow_28\u001b[0m/\r\n",
      "\u001b[01;34mcifar100_ours_ens_bank_size_8_v2_grow_38\u001b[0m/\r\n",
      "\u001b[01;34mcifar100_ours_ens_bank_size_8_v2_grow_49\u001b[0m/\r\n",
      "\u001b[01;34mcifar100_ours_ens_bank_size_8_v2_grow_63\u001b[0m/\r\n",
      "\u001b[01;34mcifar100_ours_slim_mix_29bins\u001b[0m/\r\n",
      "\u001b[01;34mcifar100_ours_v2\u001b[0m/\r\n",
      "\u001b[01;34mcifar100_ours_v2_grow_18\u001b[0m/\r\n",
      "\u001b[01;34mcifar100_ours_v2_grow_28\u001b[0m/\r\n",
      "\u001b[01;34mcifar100_ours_v2_grow_38\u001b[0m/\r\n",
      "\u001b[01;34mcifar100_ours_v2_grow_49\u001b[0m/\r\n",
      "\u001b[01;34mcifar100_ours_v2_grow_63\u001b[0m/\r\n",
      "\u001b[01;34mcifar100_seed\u001b[0m/\r\n",
      "\u001b[01;34mcifar100_target\u001b[0m/\r\n",
      "\u001b[01;34mcifar100_target_match_scalescheduler\u001b[0m/\r\n",
      "\u001b[01;34mdebug\u001b[0m/\r\n",
      "\u001b[01;34mfold-imagenet-ens-depth1stack-amp-ffcv\u001b[0m/\r\n",
      "\u001b[01;34mfold-imagenet-mixbinmax2-2stack\u001b[0m/\r\n",
      "\u001b[01;34mfold-imagenet-mixbinmax2-2stack-2\u001b[0m/\r\n",
      "\u001b[01;34mfold-imagenet-mixbinmax2-2stack-cont\u001b[0m/\r\n",
      "\u001b[01;34mfold-imagenet-mixbinmax2-2stack-cont2\u001b[0m/\r\n",
      "\u001b[01;34mfold-imagenet100-ens-amp-ffcv-168img\u001b[0m/\r\n",
      "\u001b[01;34mfold-imagenet100-ens-amp-ffcv-196img\u001b[0m/\r\n",
      "\u001b[01;34mfold-imagenet100-ens-amp-ffcv-freeze_unfreeze\u001b[0m/\r\n",
      "\u001b[01;34mfold-imagenet100-ens-amp-ffcv-freeze_unfreeze-1\u001b[0m/\r\n",
      "\u001b[01;34mfold-imagenet100-ens-amp-ffcv-freeze_unfreeze-168img\u001b[0m/\r\n",
      "\u001b[01;34mfold-imagenet100-ens-amp-ffcv-img_size168\u001b[0m/\r\n",
      "\u001b[01;34mfold-imagenet100-ens-amp-ffcv-replicatecheck\u001b[0m/\r\n",
      "\u001b[01;34mfold-imagenet100-ens-amp-ffcv-replicatecheck-2\u001b[0m/\r\n",
      "\u001b[01;34mfold-imagenet100-noens-amp-ffcv-freeze_unfreeze\u001b[0m/\r\n",
      "\u001b[01;34mfold-imagenet100-noens-amp-ffcv-replicatecheck\u001b[0m/\r\n",
      "\u001b[01;34mfold-imagenet100-noens-amp-ffcv-replicatecheck-1\u001b[0m/\r\n",
      "\u001b[01;34mfold-imagenet100-noens-amp-ffcv-replicatecheck-freeze_unfreeze\u001b[0m/\r\n",
      "\u001b[01;34mfold-imagenet100-noens-amp-ffcv-replicatecheck-freeze_unfreeze-1\u001b[0m/\r\n",
      "\u001b[01;34mfold-imagenet100-vitb-100-ens-amp-noema-vitdset-6heads\u001b[0m/\r\n",
      "\u001b[01;34mfold-imagenet100-vitsm-100-ens-amp-noema-new\u001b[0m/\r\n",
      "\u001b[01;34mfold-imagenet100-vitsm-100-ens-amp-noema-new-2\u001b[0m/\r\n",
      "\u001b[01;34mfold-imagenet100-vitsm-100-ens-amp-noema-vitdset\u001b[0m/\r\n",
      "\u001b[01;34mfold-imagenet100-vitsm-100-ens-amp-noema-vitdset-1\u001b[0m/\r\n",
      "\u001b[01;34mfold-imagenet100-vitsm-100-ens-amp-noema-vitdset-3heads\u001b[0m/\r\n",
      "\u001b[01;34mfold-imagenet100-vitsm-100-ens-amp-noema-vitdset-3heads-0coeff\u001b[0m/\r\n",
      "\u001b[01;34mfold-imagenet100-vitsm-100-ens-amp-noema-vitdset-3heads-1\u001b[0m/\r\n",
      "\u001b[01;34mfold-imagenet100-vitsm-100-ens-amp-noema-vitdset-3heads-copycoeff\u001b[0m/\r\n",
      "\u001b[01;34mfold-imagenet100-vitsm-100-ens-amp-noema-vitdset-3heads-freezeunfreeze\u001b[0m/\r\n",
      "\u001b[01;34mfold-imagenet100-vitsm-100-ens-amp-noema-vitdset-3heads-interleave\u001b[0m/\r\n",
      "\u001b[01;34mfold-imagenet100-vitsm-100-ens-amp-noema-vitdset-3heads-interleave-0untrainedcoeff\u001b[0m\u001b[K/\r\n",
      "\u001b[01;34mfold-imagenet100-vitsm-100-ens-amp-noema-vitdset-3heads-interleave-no0coeff\u001b[0m/\r\n",
      "\u001b[01;34mfold-imagenet100-vitsm-100-ens-amp-noema-vitdset-3heads-orig2\u001b[0m/\r\n",
      "\u001b[01;34mfold-imagenet100-vitsm-100-ens-amp-noema-vitdset-avg_embed_cls_pos-384embed\u001b[0m/\r\n",
      "\u001b[01;34mfold-imagenet100-vitsm-100-ens-amp-noema-vitdset-avg_embed_cls_pos-384embed-linearmap\u001b[0m\u001b[K/\r\n",
      "\u001b[01;34mfold-imagenet100-vitsm-100-ens-amp-noema-vitdset-avg_embed_cls_pos-384embed-linearmap-3heads\u001b[0m\u001b[K/\r\n",
      "\u001b[01;34mfold-imagenet100-vitsm-100-ens-amp-noema-vitdset-avg_embed_cls_pos-384embed-linearmap-3heads-1\u001b[0m\u001b[K/\r\n",
      "\u001b[01;34mfold-imagenet100-vitsm-100-ens-amp-noema-vitdset-funcequiv\u001b[0m/\r\n",
      "\u001b[01;34mfold-imagenet100-vitsm-100-noens-amp-noema-new\u001b[0m/\r\n",
      "\u001b[01;34mfold-imagenet100-vitsm-100-noens-amp-noema-new-2\u001b[0m/\r\n",
      "\u001b[01;34mfold-imagenet100-vitsm-100-noens-amp-noema-vitdset\u001b[0m/\r\n",
      "\u001b[01;34mfold-imagenet100-vitsm-100-noens-amp-noema-vitdset-1\u001b[0m/\r\n",
      "\u001b[01;34mfold-imagenet100-vitsm-100-noens-amp-noema-vitdset-3heads-freezeunfreeze\u001b[0m/\r\n",
      "\u001b[01;34mfold-imagenet100-vitsm-100-noens-amp-noema-vitdset-avg_embed_cls_pos-384embed\u001b[0m/\r\n",
      "\u001b[01;34mgradmagsgrowdiv4sqrtE\u001b[0m/\r\n",
      "\u001b[01;34mgradmagsgrowdiv8logE\u001b[0m/\r\n",
      "\u001b[01;34mimagenet_ours_ens\u001b[0m/\r\n",
      "\u001b[01;34mimagenet_target\u001b[0m/\r\n",
      "\u001b[01;34mimagenet_target_match\u001b[0m/\r\n"
     ]
    }
   ],
   "source": [
    "ls snapshots/"
   ]
  },
  {
   "cell_type": "code",
   "execution_count": 50,
   "id": "de883085",
   "metadata": {},
   "outputs": [],
   "source": [
    "#checkpoint = torch.load('/projectnb/ivc-ml/chaupham/anytime/param_share/incremental_training/snapshots/cifar100_ours_slim_depth/checkpoint.pth.tar', map_location=torch.device('cpu'))\n",
    "#acc_ours = checkpoint['recorder'].epoch_accuracy[:,1]"
   ]
  },
  {
   "cell_type": "code",
   "execution_count": 26,
   "id": "c3b6d43a",
   "metadata": {},
   "outputs": [],
   "source": [
    "checkpoint = torch.load('/projectnb/ivc-ml/chaupham/anytime/param_share/incremental_training/snapshots/cifar100_ours_slim_mix_29bins/checkpoint.pth.tar', map_location=torch.device('cpu'))\n",
    "acc_ours = checkpoint['recorder'].epoch_accuracy[:,1]"
   ]
  },
  {
   "cell_type": "code",
   "execution_count": 27,
   "id": "e57ad881",
   "metadata": {},
   "outputs": [
    {
     "data": {
      "text/plain": [
       "array([14.9 , 23.37, 29.55, 36.78, 41.59, 43.97, 47.47, 46.14, 49.  ,\n",
       "       49.3 , 51.23, 56.92, 53.16, 55.23, 55.39, 54.06, 60.09, 58.38,\n",
       "       58.47, 52.42, 60.67, 61.92, 53.96, 61.94, 56.24, 59.66, 62.02,\n",
       "       62.19, 64.89, 62.51, 60.51, 61.23, 64.01, 61.8 , 62.65, 64.39,\n",
       "       63.65, 64.95, 66.05, 64.06, 64.13, 65.15, 65.02, 66.5 , 66.52,\n",
       "       63.95, 64.89, 66.32, 67.36, 66.59, 67.76, 67.7 , 66.13, 68.63,\n",
       "       66.34, 68.87, 69.93, 68.32, 70.02, 68.59, 70.51, 70.72, 70.72,\n",
       "       71.1 , 70.64, 71.8 , 72.33, 71.98, 72.44, 72.94, 73.05, 73.82,\n",
       "       74.02, 75.77, 76.33, 76.31, 76.94, 77.07, 76.93, 77.26, 77.65,\n",
       "       77.69, 77.5 , 77.52, 77.63, 77.85, 77.93, 78.06, 77.91, 77.85,\n",
       "       77.92, 77.91, 77.94, 77.84, 78.  , 77.88, 77.9 , 77.91, 77.91,\n",
       "       78.03], dtype=float32)"
      ]
     },
     "execution_count": 27,
     "metadata": {},
     "output_type": "execute_result"
    }
   ],
   "source": [
    "acc_ours"
   ]
  },
  {
   "cell_type": "code",
   "execution_count": 23,
   "id": "57d39680",
   "metadata": {},
   "outputs": [],
   "source": [
    "x = list(range(1,101))"
   ]
  },
  {
   "cell_type": "code",
   "execution_count": 24,
   "id": "78c64c54",
   "metadata": {},
   "outputs": [
    {
     "data": {
      "image/png": "[encoded data removed]",
      "text/plain": [
       "<Figure size 640x480 with 1 Axes>"
      ]
     },
     "metadata": {},
     "output_type": "display_data"
    }
   ],
   "source": [
    "plt.plot(x,acc_ours, label='ours')\n",
    "plt.plot(x, acc_random, label='random')\n",
    "plt.plot(x, acc_firefly, label='firefly')\n",
    "plt.plot(x, acc_gradmax, label='gradmax')\n",
    "plt.axvline(64, color='black')\n",
    "plt.xlabel('Epochs')\n",
    "plt.ylabel('Top-1 Accuracy on  CIFAR-100')\n",
    "plt.legend()\n",
    "plt.savefig('/projectnb/ivc-ml/piotrt/gradmax/growneuron/jupyter_analysis/Fig1.pdf')"
   ]
  },
  {
   "cell_type": "code",
   "execution_count": 13,
   "id": "2f173131",
   "metadata": {},
   "outputs": [],
   "source": [
    "plt.show()\n"
   ]
  },
  {
   "cell_type": "code",
   "execution_count": null,
   "id": "d2c84983",
   "metadata": {},
   "outputs": [],
   "source": []
  }
 ],
 "metadata": {
  "kernelspec": {
   "display_name": "Python 3 (ipykernel)",
   "language": "python",
   "name": "python3"
  },
  "language_info": {
   "codemirror_mode": {
    "name": "ipython",
    "version": 3
   },
   "file_extension": ".py",
   "mimetype": "text/x-python",
   "name": "python",
   "nbconvert_exporter": "python",
   "pygments_lexer": "ipython3",
   "version": "3.10.6"
  }
 },
 "nbformat": 4,
 "nbformat_minor": 5
}
