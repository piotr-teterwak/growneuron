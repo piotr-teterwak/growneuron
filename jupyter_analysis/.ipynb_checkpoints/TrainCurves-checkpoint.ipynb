{
 "cells": [
  {
   "cell_type": "code",
   "execution_count": 22,
   "id": "43674d97",
   "metadata": {},
   "outputs": [],
   "source": [
    "%matplotlib inline\n",
    "\n",
    "import os\n",
    "import tensorflow as tf\n",
    "import torch\n",
    "from tensorflow.python.summary.summary_iterator import summary_iterator\n",
    "import matplotlib.pyplot as plt\n",
    "import numpy as np"
   ]
  },
  {
   "cell_type": "code",
   "execution_count": 2,
   "id": "8b9b6a8c",
   "metadata": {},
   "outputs": [],
   "source": [
    "def parse_eventfiles(summary_dir, tag='test/accuracy'): \n",
    "    step_acc_list = []\n",
    "    for filename in os.listdir(summary_dir):\n",
    "        sum_iter =  summary_iterator(os.path.join(summary_dir,filename))\n",
    "        for summ in sum_iter:\n",
    "            if summ.HasField('summary'):\n",
    "                if summ.summary.value[0].tag == tag:\n",
    "                    step_acc_list.append((summ.step,(tf.make_ndarray(summ.summary.value[0].tensor) * 100)))\n",
    "\n",
    "                    \n",
    "    return sorted(step_acc_list, key=lambda x: x[0])"
   ]
  },
  {
   "cell_type": "code",
   "execution_count": 3,
   "id": "13a159e6",
   "metadata": {},
   "outputs": [
    {
     "name": "stdout",
     "output_type": "stream",
     "text": [
      "/projectnb/ivc-ml/piotrt/gradmax/growneuron/jupyter_analysis\n"
     ]
    }
   ],
   "source": [
    "cd /projectnb/ivc-ml/piotrt/gradmax/growneuron/jupyter_analysis\n"
   ]
  },
  {
   "cell_type": "code",
   "execution_count": null,
   "id": "093eb709",
   "metadata": {},
   "outputs": [],
   "source": []
  },
  {
   "cell_type": "code",
   "execution_count": 4,
   "id": "af6d1a2b",
   "metadata": {},
   "outputs": [
    {
     "name": "stdout",
     "output_type": "stream",
     "text": [
      "WARNING:tensorflow:From /share/pkg.7/tensorflow/2.8.0/install/lib/SCC/../python3.10/site-packages/tensorflow/python/summary/summary_iterator.py:27: tf_record_iterator (from tensorflow.python.lib.io.tf_record) is deprecated and will be removed in a future version.\n",
      "Instructions for updating:\n",
      "Use eager execution and: \n",
      "`tf.data.TFRecordDataset(path)`\n"
     ]
    }
   ],
   "source": [
    "steps_gradmax, loss_gradmax = list(zip(*parse_eventfiles('../outputs/cifar/24570_single/gm_gradmax_cifar/summaries/', tag='train/loss')))\n",
    "steps_firefly, loss_firefly = list(zip(*parse_eventfiles('../outputs/cifar/24570_single/gm_firefly_cifar/summaries/', tag='train/loss')))\n",
    "steps_random, loss_random = list(zip(*parse_eventfiles('../outputs/cifar/24570_single/gm_random_cifar/summaries/', tag='train/loss')))"
   ]
  },
  {
   "cell_type": "code",
   "execution_count": null,
   "id": "dc689463",
   "metadata": {
    "collapsed": true
   },
   "outputs": [],
   "source": []
  },
  {
   "cell_type": "code",
   "execution_count": 5,
   "id": "1e54e0aa",
   "metadata": {},
   "outputs": [
    {
     "name": "stdout",
     "output_type": "stream",
     "text": [
      "/projectnb/ivc-ml/chaupham/anytime/param_share/incremental_training\n"
     ]
    }
   ],
   "source": [
    "cd /projectnb/ivc-ml/chaupham/anytime/param_share/incremental_training/"
   ]
  },
  {
   "cell_type": "code",
   "execution_count": 6,
   "id": "e7dae108",
   "metadata": {},
   "outputs": [
    {
     "name": "stdout",
     "output_type": "stream",
     "text": [
      "\u001b[0m\u001b[01;34mbaseline-c100-large-amp-ffcv\u001b[0m/\r\n",
      "\u001b[01;34mbaseline-c100-large-amp-ffcv-2\u001b[0m/\r\n",
      "\u001b[01;34mbaseline-c100-large-noamp-ffcv\u001b[0m/\r\n",
      "\u001b[01;34mbaseline-c100-small-amp-ffcv\u001b[0m/\r\n",
      "\u001b[01;34mbaseline-c100-small-noamp-ffcv\u001b[0m/\r\n",
      "\u001b[01;34mbaseline-imagenet-big\u001b[0m/\r\n",
      "\u001b[01;34mbaseline-imagenet-big-1\u001b[0m/\r\n",
      "\u001b[01;34mbaseline-imagenet-fullensemble\u001b[0m/\r\n",
      "\u001b[01;34mbaseline-imagenet-fullensemble-1\u001b[0m/\r\n",
      "\u001b[01;34mbaseline-imagenet-gradmax-halfseed\u001b[0m/\r\n",
      "\u001b[01;34mbaseline-imagenet-gradmax-halfseed-nogminit\u001b[0m/\r\n",
      "\u001b[01;34mbaseline-imagenet-randinit\u001b[0m/\r\n",
      "\u001b[01;34mbaseline-imagenet-randinit-1\u001b[0m/\r\n",
      "\u001b[01;34mbaseline-imagenet-small\u001b[0m/\r\n",
      "\u001b[01;34mbaselinestd-nogrow-ens2of-28-2\u001b[0m/\r\n",
      "\u001b[01;34mcifar100_full_ens_29bins\u001b[0m/\r\n",
      "\u001b[01;34mcifar100_full_ens_29bins_2students\u001b[0m/\r\n",
      "\u001b[01;34mcifar100_ours_ens_bank_size_8_v2\u001b[0m/\r\n",
      "\u001b[01;34mcifar100_ours_ens_bank_size_8_v2_63epochs\u001b[0m/\r\n",
      "\u001b[01;34mcifar100_ours_ens_bank_size_8_v2_grow_10_seed_45044\u001b[0m/\r\n",
      "\u001b[01;34mcifar100_ours_ens_bank_size_8_v2_grow_10_seed_65079\u001b[0m/\r\n",
      "\u001b[01;34mcifar100_ours_ens_bank_size_8_v2_grow_13_seed_45044\u001b[0m/\r\n",
      "\u001b[01;34mcifar100_ours_ens_bank_size_8_v2_grow_13_seed_65079\u001b[0m/\r\n",
      "\u001b[01;34mcifar100_ours_ens_bank_size_8_v2_grow_13_seed_92756\u001b[0m/\r\n",
      "\u001b[01;34mcifar100_ours_ens_bank_size_8_v2_grow_15_seed_45044\u001b[0m/\r\n",
      "\u001b[01;34mcifar100_ours_ens_bank_size_8_v2_grow_15_seed_65079\u001b[0m/\r\n",
      "\u001b[01;34mcifar100_ours_ens_bank_size_8_v2_grow_18\u001b[0m/\r\n",
      "\u001b[01;34mcifar100_ours_ens_bank_size_8_v2_grow_18_seed_21979\u001b[0m/\r\n",
      "\u001b[01;34mcifar100_ours_ens_bank_size_8_v2_grow_18_seed_36519\u001b[0m/\r\n",
      "\u001b[01;34mcifar100_ours_ens_bank_size_8_v2_grow_18_seed_92756\u001b[0m/\r\n",
      "\u001b[01;34mcifar100_ours_ens_bank_size_8_v2_grow_23_seed_83794\u001b[0m/\r\n",
      "\u001b[01;34mcifar100_ours_ens_bank_size_8_v2_grow_23_seed_92756\u001b[0m/\r\n",
      "\u001b[01;34mcifar100_ours_ens_bank_size_8_v2_grow_27_seed_44762\u001b[0m/\r\n",
      "\u001b[01;34mcifar100_ours_ens_bank_size_8_v2_grow_27_seed_50597\u001b[0m/\r\n",
      "\u001b[01;34mcifar100_ours_ens_bank_size_8_v2_grow_27_seed_64374\u001b[0m/\r\n",
      "\u001b[01;34mcifar100_ours_ens_bank_size_8_v2_grow_27_seed_71697\u001b[0m/\r\n",
      "\u001b[01;34mcifar100_ours_ens_bank_size_8_v2_grow_28\u001b[0m/\r\n",
      "\u001b[01;34mcifar100_ours_ens_bank_size_8_v2_grow_28_seed_21979\u001b[0m/\r\n",
      "\u001b[01;34mcifar100_ours_ens_bank_size_8_v2_grow_28_seed_36519\u001b[0m/\r\n",
      "\u001b[01;34mcifar100_ours_ens_bank_size_8_v2_grow_28_seed_56374\u001b[0m/\r\n",
      "\u001b[01;34mcifar100_ours_ens_bank_size_8_v2_grow_31_seed_53569\u001b[0m/\r\n",
      "\u001b[01;34mcifar100_ours_ens_bank_size_8_v2_grow_33_seed_53569\u001b[0m/\r\n",
      "\u001b[01;34mcifar100_ours_ens_bank_size_8_v2_grow_33_seed_83794\u001b[0m/\r\n",
      "\u001b[01;34mcifar100_ours_ens_bank_size_8_v2_grow_33_seed_92391\u001b[0m/\r\n",
      "\u001b[01;34mcifar100_ours_ens_bank_size_8_v2_grow_33_seed_9417\u001b[0m/\r\n",
      "\u001b[01;34mcifar100_ours_ens_bank_size_8_v2_grow_35_seed_53569\u001b[0m/\r\n",
      "\u001b[01;34mcifar100_ours_ens_bank_size_8_v2_grow_38\u001b[0m/\r\n",
      "\u001b[01;34mcifar100_ours_ens_bank_size_8_v2_grow_38_seed_21979\u001b[0m/\r\n",
      "\u001b[01;34mcifar100_ours_ens_bank_size_8_v2_grow_38_seed_56374\u001b[0m/\r\n",
      "\u001b[01;34mcifar100_ours_ens_bank_size_8_v2_grow_42_seed_44762\u001b[0m/\r\n",
      "\u001b[01;34mcifar100_ours_ens_bank_size_8_v2_grow_42_seed_50597\u001b[0m/\r\n",
      "\u001b[01;34mcifar100_ours_ens_bank_size_8_v2_grow_42_seed_64374\u001b[0m/\r\n",
      "\u001b[01;34mcifar100_ours_ens_bank_size_8_v2_grow_42_seed_7123\u001b[0m/\r\n",
      "\u001b[01;34mcifar100_ours_ens_bank_size_8_v2_grow_42_seed_71697\u001b[0m/\r\n",
      "\u001b[01;34mcifar100_ours_ens_bank_size_8_v2_grow_42_seed_93100\u001b[0m/\r\n",
      "\u001b[01;34mcifar100_ours_ens_bank_size_8_v2_grow_42_seed_96790\u001b[0m/\r\n",
      "\u001b[01;34mcifar100_ours_ens_bank_size_8_v2_grow_43_seed_83794\u001b[0m/\r\n",
      "\u001b[01;34mcifar100_ours_ens_bank_size_8_v2_grow_43_seed_92391\u001b[0m/\r\n",
      "\u001b[01;34mcifar100_ours_ens_bank_size_8_v2_grow_43_seed_9417\u001b[0m/\r\n",
      "\u001b[01;34mcifar100_ours_ens_bank_size_8_v2_grow_48_seed_83794\u001b[0m/\r\n",
      "\u001b[01;34mcifar100_ours_ens_bank_size_8_v2_grow_48_seed_92391\u001b[0m/\r\n",
      "\u001b[01;34mcifar100_ours_ens_bank_size_8_v2_grow_48_seed_9417\u001b[0m/\r\n",
      "\u001b[01;34mcifar100_ours_ens_bank_size_8_v2_grow_49\u001b[0m/\r\n",
      "\u001b[01;34mcifar100_ours_ens_bank_size_8_v2_grow_49_seed_21979\u001b[0m/\r\n",
      "\u001b[01;34mcifar100_ours_ens_bank_size_8_v2_grow_49_seed_56374\u001b[0m/\r\n",
      "\u001b[01;34mcifar100_ours_ens_bank_size_8_v2_grow_53_seed_83794\u001b[0m/\r\n",
      "\u001b[01;34mcifar100_ours_ens_bank_size_8_v2_grow_57_seed_44762\u001b[0m/\r\n",
      "\u001b[01;34mcifar100_ours_ens_bank_size_8_v2_grow_57_seed_50597\u001b[0m/\r\n",
      "\u001b[01;34mcifar100_ours_ens_bank_size_8_v2_grow_57_seed_71697\u001b[0m/\r\n",
      "\u001b[01;34mcifar100_ours_ens_bank_size_8_v2_grow_58_seed_92551\u001b[0m/\r\n",
      "\u001b[01;34mcifar100_ours_ens_bank_size_8_v2_grow_5_seed_45044\u001b[0m/\r\n",
      "\u001b[01;34mcifar100_ours_ens_bank_size_8_v2_grow_5_seed_65079\u001b[0m/\r\n",
      "\u001b[01;34mcifar100_ours_ens_bank_size_8_v2_grow_5_seed_92756\u001b[0m/\r\n",
      "\u001b[01;34mcifar100_ours_ens_bank_size_8_v2_grow_63\u001b[0m/\r\n",
      "\u001b[01;34mcifar100_ours_ens_bank_size_8_v2_grow_63_seed_21979\u001b[0m/\r\n",
      "\u001b[01;34mcifar100_ours_ens_bank_size_8_v2_grow_63_seed_56374\u001b[0m/\r\n",
      "\u001b[01;34mcifar100_ours_ens_bank_size_8_v2_grow_68_seed_90858\u001b[0m/\r\n",
      "\u001b[01;34mcifar100_ours_ens_bank_size_8_v2_grow_68_seed_92551\u001b[0m/\r\n",
      "\u001b[01;34mcifar100_ours_ens_bank_size_8_v2_grow_73_seed_90858\u001b[0m/\r\n",
      "\u001b[01;34mcifar100_ours_ens_bank_size_8_v2_grow_73_seed_92551\u001b[0m/\r\n",
      "\u001b[01;34mcifar100_ours_ens_bank_size_8_v2_grow_74_seed_44762\u001b[0m/\r\n",
      "\u001b[01;34mcifar100_ours_ens_bank_size_8_v2_grow_74_seed_50597\u001b[0m/\r\n",
      "\u001b[01;34mcifar100_ours_ens_bank_size_8_v2_grow_74_seed_71697\u001b[0m/\r\n",
      "\u001b[01;34mcifar100_ours_ens_bank_size_8_v2_grow_78_seed_90858\u001b[0m/\r\n",
      "\u001b[01;34mcifar100_ours_ens_bank_size_8_v2_grow_78_seed_92551\u001b[0m/\r\n",
      "\u001b[01;34mcifar100_ours_ens_bank_size_8_v2_grow_80_seed_92391\u001b[0m/\r\n",
      "\u001b[01;34mcifar100_ours_ens_bank_size_8_v2_grow_80_seed_9417\u001b[0m/\r\n",
      "\u001b[01;34mcifar100_ours_ens_bank_size_8_v2_grow_83_seed_92391\u001b[0m/\r\n",
      "\u001b[01;34mcifar100_ours_ens_bank_size_8_v2_grow_83_seed_92551\u001b[0m/\r\n",
      "\u001b[01;34mcifar100_ours_ens_bank_size_8_v2_grow_83_seed_9417\u001b[0m/\r\n",
      "\u001b[01;34mcifar100_ours_ens_bank_size_8_v2_grow_88_seed_92551\u001b[0m/\r\n",
      "\u001b[01;34mcifar100_ours_ens_bank_size_8_v2_grow_93_seed_21486\u001b[0m/\r\n",
      "\u001b[01;34mcifar100_ours_ens_bank_size_8_v2_grow_93_seed_25196\u001b[0m/\r\n",
      "\u001b[01;34mcifar100_ours_ens_bank_size_8_v2_grow_93_seed_77420\u001b[0m/\r\n",
      "\u001b[01;34mcifar100_ours_ens_bank_size_8_v2_grow_93_seed_92551\u001b[0m/\r\n",
      "\u001b[01;34mcifar100_ours_ens_bank_size_8_v2_grow_94_seed_34217\u001b[0m/\r\n",
      "\u001b[01;34mcifar100_ours_ens_bank_size_8_v2_grow_94_seed_44762\u001b[0m/\r\n",
      "\u001b[01;34mcifar100_ours_ens_bank_size_8_v2_grow_94_seed_57612\u001b[0m/\r\n",
      "\u001b[01;34mcifar100_ours_ens_bank_size_8_v2_grow_94_seed_5895\u001b[0m/\r\n",
      "\u001b[01;34mcifar100_ours_ens_bank_size_8_v2_grow_94_seed_71697\u001b[0m/\r\n",
      "\u001b[01;34mcifar100_ours_ens_bank_size_8_v2_grow_94_seed_96406\u001b[0m/\r\n",
      "\u001b[01;34mcifar100_ours_ens_bank_size_8_v2_grow_94_seed_999\u001b[0m/\r\n",
      "\u001b[01;34mcifar100_ours_ens_bank_size_8_v2_grow_95_seed_92391\u001b[0m/\r\n",
      "\u001b[01;34mcifar100_ours_ens_bank_size_8_v2_grow_95_seed_9417\u001b[0m/\r\n",
      "\u001b[01;34mcifar100_ours_ens_bank_size_8_v2_grow_96_seed_92391\u001b[0m/\r\n",
      "\u001b[01;34mcifar100_ours_ens_bank_size_8_v2_grow_96_seed_9417\u001b[0m/\r\n",
      "\u001b[01;34mcifar100_ours_ens_bank_size_8_v2_grow_97_seed_1196\u001b[0m/\r\n",
      "\u001b[01;34mcifar100_ours_ens_bank_size_8_v2_grow_97_seed_31584\u001b[0m/\r\n",
      "\u001b[01;34mcifar100_ours_ens_bank_size_8_v2_grow_97_seed_51180\u001b[0m/\r\n",
      "\u001b[01;34mcifar100_ours_ens_bank_size_8_v2_grow_97_seed_69785\u001b[0m/\r\n",
      "\u001b[01;34mcifar100_ours_ens_bank_size_8_v2_grow_97_seed_87058\u001b[0m/\r\n",
      "\u001b[01;34mcifar100_ours_ens_bank_size_8_v2_grow_97_seed_92572\u001b[0m/\r\n",
      "\u001b[01;34mcifar100_ours_ens_bank_size_8_v2_grow_97_seed_92817\u001b[0m/\r\n",
      "\u001b[01;34mcifar100_ours_ens_bank_size_8_v2_grow_97_seed_99457\u001b[0m/\r\n",
      "\u001b[01;34mcifar100_ours_ens_bank_size_8_v2_grow_98_seed_15814\u001b[0m/\r\n",
      "\u001b[01;34mcifar100_ours_ens_bank_size_8_v2_grow_98_seed_17856\u001b[0m/\r\n",
      "\u001b[01;34mcifar100_ours_ens_bank_size_8_v2_grow_98_seed_46403\u001b[0m/\r\n",
      "\u001b[01;34mcifar100_ours_ens_bank_size_8_v2_grow_98_seed_53569\u001b[0m/\r\n",
      "\u001b[01;34mcifar100_ours_ens_bank_size_8_v2_grow_98_seed_54322\u001b[0m/\r\n",
      "\u001b[01;34mcifar100_ours_ens_bank_size_8_v2_grow_98_seed_67919\u001b[0m/\r\n",
      "\u001b[01;34mcifar100_ours_ens_bank_size_8_v2_grow_98_seed_8590\u001b[0m/\r\n",
      "\u001b[01;34mcifar100_ours_ens_bank_size_8_v2_grow_98_seed_92551\u001b[0m/\r\n",
      "\u001b[01;34mcifar100_ours_ens_bank_size_8_v2_grow_99_seed_1798\u001b[0m/\r\n",
      "\u001b[01;34mcifar100_ours_ens_bank_size_8_v2_grow_99_seed_38276\u001b[0m/\r\n",
      "\u001b[01;34mcifar100_ours_ens_bank_size_8_v2_grow_99_seed_63170\u001b[0m/\r\n",
      "\u001b[01;34mcifar100_ours_ens_bank_size_8_v2_grow_99_seed_65029\u001b[0m/\r\n",
      "\u001b[01;34mcifar100_ours_ens_bank_size_8_v2_grow_99_seed_66228\u001b[0m/\r\n",
      "\u001b[01;34mcifar100_ours_ens_bank_size_8_v2_grow_99_seed_72928\u001b[0m/\r\n",
      "\u001b[01;34mcifar100_ours_ens_bank_size_8_v2_grow_99_seed_75780\u001b[0m/\r\n",
      "\u001b[01;34mcifar100_ours_ens_bank_size_8_v2_grow_99_seed_89711\u001b[0m/\r\n",
      "\u001b[01;34mcifar100_ours_ens_bank_size_8_v2_grow_99_seed_93316\u001b[0m/\r\n",
      "\u001b[01;34mcifar100_ours_ens_bank_vgg\u001b[0m/\r\n",
      "\u001b[01;34mcifar100_ours_ens_coeffs_copy\u001b[0m/\r\n",
      "\u001b[01;34mcifar100_ours_ens_coeffs_copy_2\u001b[0m/\r\n",
      "\u001b[01;34mcifar100_ours_ens_coeffs_copy_3\u001b[0m/\r\n",
      "\u001b[01;34mcifar100_ours_ens_debug\u001b[0m/\r\n",
      "\u001b[01;34mcifar100_ours_ens_debug_2\u001b[0m/\r\n",
      "\u001b[01;34mcifar100_ours_ens_debug_v2\u001b[0m/\r\n",
      "\u001b[01;34mcifar100_ours_ens_debug_v3\u001b[0m/\r\n",
      "\u001b[01;34mcifar100_ours_slim_mix_29bins\u001b[0m/\r\n",
      "\u001b[01;34mcifar100_ours_v2\u001b[0m/\r\n",
      "\u001b[01;34mcifar100_ours_v2_63epochs\u001b[0m/\r\n",
      "\u001b[01;34mcifar100_ours_v2_grow_18\u001b[0m/\r\n",
      "\u001b[01;34mcifar100_ours_v2_grow_18_seed_10446\u001b[0m/\r\n",
      "\u001b[01;34mcifar100_ours_v2_grow_18_seed_68967\u001b[0m/\r\n",
      "\u001b[01;34mcifar100_ours_v2_grow_28\u001b[0m/\r\n",
      "\u001b[01;34mcifar100_ours_v2_grow_28_seed_10446\u001b[0m/\r\n",
      "\u001b[01;34mcifar100_ours_v2_grow_28_seed_68967\u001b[0m/\r\n",
      "\u001b[01;34mcifar100_ours_v2_grow_38\u001b[0m/\r\n",
      "\u001b[01;34mcifar100_ours_v2_grow_38_seed_10446\u001b[0m/\r\n",
      "\u001b[01;34mcifar100_ours_v2_grow_38_seed_68967\u001b[0m/\r\n",
      "\u001b[01;34mcifar100_ours_v2_grow_42_seed_10440\u001b[0m/\r\n",
      "\u001b[01;34mcifar100_ours_v2_grow_42_seed_20125\u001b[0m/\r\n",
      "\u001b[01;34mcifar100_ours_v2_grow_42_seed_27767\u001b[0m/\r\n",
      "\u001b[01;34mcifar100_ours_v2_grow_49\u001b[0m/\r\n",
      "\u001b[01;34mcifar100_ours_v2_grow_49_seed_10446\u001b[0m/\r\n",
      "\u001b[01;34mcifar100_ours_v2_grow_49_seed_68967\u001b[0m/\r\n",
      "\u001b[01;34mcifar100_ours_v2_grow_63\u001b[0m/\r\n",
      "\u001b[01;34mcifar100_ours_v2_grow_63_seed_10446\u001b[0m/\r\n",
      "\u001b[01;34mcifar100_ours_v2_grow_63_seed_68967\u001b[0m/\r\n",
      "\u001b[01;34mcifar100_ours_v2_grow_93_seed_76425\u001b[0m/\r\n",
      "\u001b[01;34mcifar100_ours_v2_grow_97_seed_76425\u001b[0m/\r\n",
      "\u001b[01;34mcifar100_ours_v2_grow_98_seed_76425\u001b[0m/\r\n",
      "\u001b[01;34mcifar100_seed\u001b[0m/\r\n",
      "\u001b[01;34mcifar100_target\u001b[0m/\r\n",
      "\u001b[01;34mcifar100_target_match_scalescheduler\u001b[0m/\r\n",
      "\u001b[01;34mcifar10_ours\u001b[0m/\r\n",
      "\u001b[01;34mcifar10_ours_2\u001b[0m/\r\n",
      "\u001b[01;34mcifar10_ours_3\u001b[0m/\r\n",
      "\u001b[01;34mcifar10_ours_ens\u001b[0m/\r\n",
      "\u001b[01;34mcifar10_ours_ens_2\u001b[0m/\r\n",
      "\u001b[01;34mcifar10_ours_ens_3\u001b[0m/\r\n",
      "\u001b[01;34mcifar10_seed\u001b[0m/\r\n",
      "\u001b[01;34mcifar10_seed_2\u001b[0m/\r\n",
      "\u001b[01;34mcifar10_seed_3\u001b[0m/\r\n",
      "\u001b[01;34mcifar10_target\u001b[0m/\r\n",
      "\u001b[01;34mcifar10_target_2\u001b[0m/\r\n",
      "\u001b[01;34mcifar10_target_3\u001b[0m/\r\n",
      "\u001b[01;34mdebug\u001b[0m/\r\n",
      "\u001b[01;34mfold-imagenet-ens-depth1stack-amp-ffcv\u001b[0m/\r\n",
      "\u001b[01;34mfold-imagenet-mixbinmax2-2stack\u001b[0m/\r\n",
      "\u001b[01;34mfold-imagenet-mixbinmax2-2stack-2\u001b[0m/\r\n",
      "\u001b[01;34mfold-imagenet-mixbinmax2-2stack-cont\u001b[0m/\r\n",
      "\u001b[01;34mfold-imagenet-mixbinmax2-2stack-cont2\u001b[0m/\r\n",
      "\u001b[01;34mfold-imagenet100-ens-amp-ffcv-168img\u001b[0m/\r\n",
      "\u001b[01;34mfold-imagenet100-ens-amp-ffcv-196img\u001b[0m/\r\n",
      "\u001b[01;34mfold-imagenet100-ens-amp-ffcv-freeze_unfreeze\u001b[0m/\r\n",
      "\u001b[01;34mfold-imagenet100-ens-amp-ffcv-freeze_unfreeze-1\u001b[0m/\r\n",
      "\u001b[01;34mfold-imagenet100-ens-amp-ffcv-freeze_unfreeze-168img\u001b[0m/\r\n",
      "\u001b[01;34mfold-imagenet100-ens-amp-ffcv-img_size168\u001b[0m/\r\n",
      "\u001b[01;34mfold-imagenet100-ens-amp-ffcv-replicatecheck\u001b[0m/\r\n",
      "\u001b[01;34mfold-imagenet100-ens-amp-ffcv-replicatecheck-2\u001b[0m/\r\n",
      "\u001b[01;34mfold-imagenet100-noens-amp-ffcv-freeze_unfreeze\u001b[0m/\r\n",
      "\u001b[01;34mfold-imagenet100-noens-amp-ffcv-replicatecheck\u001b[0m/\r\n",
      "\u001b[01;34mfold-imagenet100-noens-amp-ffcv-replicatecheck-1\u001b[0m/\r\n",
      "\u001b[01;34mfold-imagenet100-noens-amp-ffcv-replicatecheck-freeze_unfreeze\u001b[0m/\r\n",
      "\u001b[01;34mfold-imagenet100-noens-amp-ffcv-replicatecheck-freeze_unfreeze-1\u001b[0m/\r\n",
      "\u001b[01;34mfold-imagenet100-vitb-100-ens-amp-noema-vitdset-6heads\u001b[0m/\r\n",
      "\u001b[01;34mfold-imagenet100-vitsm-100-ens-amp-noema-new\u001b[0m/\r\n",
      "\u001b[01;34mfold-imagenet100-vitsm-100-ens-amp-noema-new-2\u001b[0m/\r\n",
      "\u001b[01;34mfold-imagenet100-vitsm-100-ens-amp-noema-vitdset\u001b[0m/\r\n",
      "\u001b[01;34mfold-imagenet100-vitsm-100-ens-amp-noema-vitdset-1\u001b[0m/\r\n",
      "\u001b[01;34mfold-imagenet100-vitsm-100-ens-amp-noema-vitdset-3heads\u001b[0m/\r\n",
      "\u001b[01;34mfold-imagenet100-vitsm-100-ens-amp-noema-vitdset-3heads-0coeff\u001b[0m/\r\n",
      "\u001b[01;34mfold-imagenet100-vitsm-100-ens-amp-noema-vitdset-3heads-1\u001b[0m/\r\n",
      "\u001b[01;34mfold-imagenet100-vitsm-100-ens-amp-noema-vitdset-3heads-copycoeff\u001b[0m/\r\n",
      "\u001b[01;34mfold-imagenet100-vitsm-100-ens-amp-noema-vitdset-3heads-freezeunfreeze\u001b[0m/\r\n",
      "\u001b[01;34mfold-imagenet100-vitsm-100-ens-amp-noema-vitdset-3heads-interleave\u001b[0m/\r\n",
      "\u001b[01;34mfold-imagenet100-vitsm-100-ens-amp-noema-vitdset-3heads-interleave-0untrainedcoeff\u001b[0m\u001b[K/\r\n",
      "\u001b[01;34mfold-imagenet100-vitsm-100-ens-amp-noema-vitdset-3heads-interleave-no0coeff\u001b[0m/\r\n",
      "\u001b[01;34mfold-imagenet100-vitsm-100-ens-amp-noema-vitdset-3heads-orig2\u001b[0m/\r\n",
      "\u001b[01;34mfold-imagenet100-vitsm-100-ens-amp-noema-vitdset-avg_embed_cls_pos-384embed\u001b[0m/\r\n",
      "\u001b[01;34mfold-imagenet100-vitsm-100-ens-amp-noema-vitdset-avg_embed_cls_pos-384embed-linearmap\u001b[0m\u001b[K/\r\n",
      "\u001b[01;34mfold-imagenet100-vitsm-100-ens-amp-noema-vitdset-avg_embed_cls_pos-384embed-linearmap-3heads\u001b[0m\u001b[K/\r\n",
      "\u001b[01;34mfold-imagenet100-vitsm-100-ens-amp-noema-vitdset-avg_embed_cls_pos-384embed-linearmap-3heads-1\u001b[0m\u001b[K/\r\n",
      "\u001b[01;34mfold-imagenet100-vitsm-100-ens-amp-noema-vitdset-funcequiv\u001b[0m/\r\n",
      "\u001b[01;34mfold-imagenet100-vitsm-100-noens-amp-noema-new\u001b[0m/\r\n",
      "\u001b[01;34mfold-imagenet100-vitsm-100-noens-amp-noema-new-2\u001b[0m/\r\n",
      "\u001b[01;34mfold-imagenet100-vitsm-100-noens-amp-noema-vitdset\u001b[0m/\r\n",
      "\u001b[01;34mfold-imagenet100-vitsm-100-noens-amp-noema-vitdset-1\u001b[0m/\r\n",
      "\u001b[01;34mfold-imagenet100-vitsm-100-noens-amp-noema-vitdset-3heads-freezeunfreeze\u001b[0m/\r\n",
      "\u001b[01;34mfold-imagenet100-vitsm-100-noens-amp-noema-vitdset-avg_embed_cls_pos-384embed\u001b[0m/\r\n",
      "\u001b[01;34mgradmagsgrowdiv4sqrtE\u001b[0m/\r\n",
      "\u001b[01;34mgradmagsgrowdiv8logE\u001b[0m/\r\n",
      "\u001b[01;34mimagenet_ours\u001b[0m/\r\n",
      "\u001b[01;34mimagenet_ours_40\u001b[0m/\r\n",
      "\u001b[01;34mimagenet_ours_ens\u001b[0m/\r\n",
      "\u001b[01;34mimagenet_ours_ens_debug\u001b[0m/\r\n",
      "\u001b[01;34mimagenet_target\u001b[0m/\r\n",
      "\u001b[01;34mimagenet_target_match\u001b[0m/\r\n"
     ]
    }
   ],
   "source": [
    "ls snapshots/"
   ]
  },
  {
   "cell_type": "code",
   "execution_count": 7,
   "id": "de883085",
   "metadata": {},
   "outputs": [],
   "source": [
    "checkpoint = torch.load('/projectnb/ivc-ml/chaupham/anytime/param_share/incremental_training/snapshots/cifar100_ours_ens_bank_size_8_v2_grow_63/checkpoint.pth.tar', map_location=torch.device('cpu'))\n",
    "recorder = checkpoint['recorder']"
   ]
  },
  {
   "cell_type": "code",
   "execution_count": 8,
   "id": "c3b6d43a",
   "metadata": {},
   "outputs": [],
   "source": [
    "#checkpoint = torch.load('/projectnb/ivc-ml/chaupham/anytime/param_share/incremental_training/snapshots/cifar100_ours_slim_mix_29bins/checkpoint.pth.tar', map_location=torch.device('cpu'))\n",
    "#acc_ours = checkpoint['recorder'].epoch_accuracy[:,1]"
   ]
  },
  {
   "cell_type": "code",
   "execution_count": 9,
   "id": "e57ad881",
   "metadata": {},
   "outputs": [],
   "source": [
    "#acc_ours"
   ]
  },
  {
   "cell_type": "code",
   "execution_count": 16,
   "id": "c4f50288",
   "metadata": {},
   "outputs": [],
   "source": [
    "train_loss = recorder.epoch_losses[:,0]"
   ]
  },
  {
   "cell_type": "code",
   "execution_count": 18,
   "id": "f2561bd0",
   "metadata": {},
   "outputs": [
    {
     "data": {
      "text/plain": [
       "100"
      ]
     },
     "execution_count": 18,
     "metadata": {},
     "output_type": "execute_result"
    }
   ],
   "source": [
    "len(train_loss)"
   ]
  },
  {
   "cell_type": "code",
   "execution_count": 24,
   "id": "79e683cf",
   "metadata": {},
   "outputs": [
    {
     "data": {
      "text/plain": [
       "array([7.2685614 , 5.4848957 , 4.5781465 , 3.9752707 , 3.5748477 ,\n",
       "       3.2976007 , 3.0799422 , 2.916326  , 2.7971838 , 2.662372  ,\n",
       "       2.58042   , 2.4842596 , 2.416033  , 2.350979  , 2.2837687 ,\n",
       "       2.2373893 , 2.1716413 , 2.1346006 , 2.105142  , 2.0582747 ,\n",
       "       2.0095687 , 1.9724624 , 1.9493442 , 1.9067343 , 1.8680382 ,\n",
       "       1.8354857 , 1.7939433 , 1.7670724 , 1.7376038 , 1.7075042 ,\n",
       "       1.6703721 , 1.6545718 , 1.6080959 , 1.573439  , 1.5498517 ,\n",
       "       1.5119215 , 1.4748265 , 1.4301033 , 1.4128059 , 1.3796595 ,\n",
       "       1.3491162 , 1.3041725 , 1.2752116 , 1.2406068 , 1.2127557 ,\n",
       "       1.1599263 , 1.1347623 , 1.0857468 , 1.059623  , 1.028868  ,\n",
       "       0.98185974, 0.92948556, 0.88834184, 0.85774577, 0.833308  ,\n",
       "       0.7842588 , 0.75307304, 0.6956986 , 0.6622957 , 0.63707554,\n",
       "       0.5691811 , 0.52861357, 0.51909   , 0.20099993, 0.08530695,\n",
       "       0.04849334, 0.03146248, 0.02638168, 0.02155524, 0.01708497,\n",
       "       0.01497758, 0.01492099, 0.01335905, 0.01291439, 0.01274287,\n",
       "       0.01195056, 0.01174752, 0.01245953, 0.01153446, 0.011211  ,\n",
       "       0.01111666, 0.01088332, 0.01083126, 0.010396  , 0.01031637,\n",
       "       0.0101085 , 0.00989701, 0.0094141 , 0.00936197, 0.00933301,\n",
       "       0.0091386 , 0.00896853, 0.00892113, 0.00890786, 0.00878278,\n",
       "       0.00862254, 0.00866933, 0.00868996, 0.0086195 , 0.00863691],\n",
       "      dtype=float32)"
      ]
     },
     "execution_count": 24,
     "metadata": {},
     "output_type": "execute_result"
    }
   ],
   "source": [
    "train_loss"
   ]
  },
  {
   "cell_type": "code",
   "execution_count": 23,
   "id": "78c64c54",
   "metadata": {},
   "outputs": [
    {
     "data": {
      "image/png": "[encoded data removed]",
      "text/plain": [
       "<Figure size 640x480 with 1 Axes>"
      ]
     },
     "metadata": {},
     "output_type": "display_data"
    }
   ],
   "source": [
    "plt.plot(steps_random, loss_random, label='random')\n",
    "plt.plot(steps_gradmax, loss_gradmax, label='gradmax')\n",
    "plt.plot(steps_firefly, loss_firefly, label='firefly')\n",
    "plt.plot(np.array(range(1,101)) * 391, train_loss, label='our ens')\n",
    "plt.axvline(24570, color='black')\n",
    "plt.xlabel('Steps')\n",
    "plt.ylabel('Loss on  CIFAR-100')\n",
    "plt.legend()\n",
    "plt.savefig('/projectnb/ivc-ml/piotrt/gradmax/growneuron/jupyter_analysis/Fig1.pdf')"
   ]
  },
  {
   "cell_type": "code",
   "execution_count": null,
   "id": "2f173131",
   "metadata": {},
   "outputs": [],
   "source": [
    "plt.show()\n"
   ]
  },
  {
   "cell_type": "code",
   "execution_count": null,
   "id": "d2c84983",
   "metadata": {},
   "outputs": [],
   "source": []
  }
 ],
 "metadata": {
  "kernelspec": {
   "display_name": "Python 3 (ipykernel)",
   "language": "python",
   "name": "python3"
  },
  "language_info": {
   "codemirror_mode": {
    "name": "ipython",
    "version": 3
   },
   "file_extension": ".py",
   "mimetype": "text/x-python",
   "name": "python",
   "nbconvert_exporter": "python",
   "pygments_lexer": "ipython3",
   "version": "3.10.6"
  }
 },
 "nbformat": 4,
 "nbformat_minor": 5
}
