{
 "cells": [
  {
   "cell_type": "code",
   "execution_count": 4,
   "id": "e7956361",
   "metadata": {},
   "outputs": [],
   "source": [
    "import tensorflow as tf\n",
    "from growneuron.cifar import wide_resnet"
   ]
  },
  {
   "cell_type": "code",
   "execution_count": 2,
   "id": "09ac8860",
   "metadata": {},
   "outputs": [],
   "source": [
    "model = wide_resnet.create_model(num_classes=100)"
   ]
  },
  {
   "cell_type": "code",
   "execution_count": 5,
   "id": "ce4f8e30",
   "metadata": {},
   "outputs": [],
   "source": [
    "dummy_optimizer = tf.keras.optimizers.SGD(0.1)"
   ]
  },
  {
   "cell_type": "code",
   "execution_count": 15,
   "id": "8458dff6",
   "metadata": {},
   "outputs": [],
   "source": [
    "checkpoint = tf.train.Checkpoint(model=model)"
   ]
  },
  {
   "cell_type": "code",
   "execution_count": 16,
   "id": "57826f29",
   "metadata": {},
   "outputs": [],
   "source": [
    "latest_checkpoint = tf.train.latest_checkpoint('../outputs/cifar/save_16422_single/gm_random_cifar/')"
   ]
  },
  {
   "cell_type": "code",
   "execution_count": 17,
   "id": "1d90e8b0",
   "metadata": {},
   "outputs": [],
   "source": [
    "stat = checkpoint.restore(latest_checkpoint)"
   ]
  },
  {
   "cell_type": "code",
   "execution_count": 20,
   "id": "d4bdfbb2",
   "metadata": {},
   "outputs": [
    {
     "data": {
      "text/plain": [
       "<tensorflow.python.training.tracking.util.CheckpointLoadStatus at 0x2b2bf954ecd0>"
      ]
     },
     "execution_count": 20,
     "metadata": {},
     "output_type": "execute_result"
    }
   ],
   "source": [
    "stat.assert_existing_objects_matched()"
   ]
  },
  {
   "cell_type": "code",
   "execution_count": null,
   "id": "d71f4937",
   "metadata": {},
   "outputs": [],
   "source": []
  },
  {
   "cell_type": "code",
   "execution_count": null,
   "id": "449013e1",
   "metadata": {},
   "outputs": [],
   "source": []
  }
 ],
 "metadata": {
  "kernelspec": {
   "display_name": "Python 3 (ipykernel)",
   "language": "python",
   "name": "python3"
  },
  "language_info": {
   "codemirror_mode": {
    "name": "ipython",
    "version": 3
   },
   "file_extension": ".py",
   "mimetype": "text/x-python",
   "name": "python",
   "nbconvert_exporter": "python",
   "pygments_lexer": "ipython3",
   "version": "3.8.13"
  }
 },
 "nbformat": 4,
 "nbformat_minor": 5
}
