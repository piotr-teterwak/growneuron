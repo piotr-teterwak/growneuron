{
 "cells": [
  {
   "cell_type": "code",
   "execution_count": 1,
   "id": "43674d97",
   "metadata": {},
   "outputs": [],
   "source": [
    "import os\n",
    "import tensorflow as tf\n",
    "import torch\n",
    "from tensorflow.python.summary.summary_iterator import summary_iterator"
   ]
  },
  {
   "cell_type": "code",
   "execution_count": 2,
   "id": "8b9b6a8c",
   "metadata": {},
   "outputs": [],
   "source": [
    "def parse_eventfiles(summary_dir): \n",
    "    step_acc_list = []\n",
    "    for filename in os.listdir(summary_dir):\n",
    "        sum_iter =  summary_iterator(os.path.join(summary_dir,filename))\n",
    "        for summ in sum_iter:\n",
    "            if summ.HasField('summary'):\n",
    "                if summ.summary.value[0].tag == 'test/accuracy':\n",
    "                    step_acc_list.append((summ.step,(tf.make_ndarray(summ.summary.value[0].tensor))))\n",
    "\n",
    "                    \n",
    "    return sorted(step_acc_list, key=lambda x: x[0])"
   ]
  },
  {
   "cell_type": "code",
   "execution_count": 3,
   "id": "af6d1a2b",
   "metadata": {},
   "outputs": [
    {
     "name": "stdout",
     "output_type": "stream",
     "text": [
      "WARNING:tensorflow:From /share/pkg.7/tensorflow/2.7.0/install/lib/SCC/../python3.8/site-packages/tensorflow/python/summary/summary_iterator.py:31: tf_record_iterator (from tensorflow.python.lib.io.tf_record) is deprecated and will be removed in a future version.\n",
      "Instructions for updating:\n",
      "Use eager execution and: \n",
      "`tf.data.TFRecordDataset(path)`\n"
     ]
    }
   ],
   "source": [
    "acc_gradmax = parse_eventfiles('../outputs/cifar/24570_single/gm_gradmax_cifar/summaries/')\n",
    "acc_firefly = parse_eventfiles('../outputs/cifar/24570_single/gm_firefly_cifar/summaries/')\n",
    "acc_random = parse_eventfiles('../outputs/cifar/24570_single/gm_random_cifar/summaries/')"
   ]
  },
  {
   "cell_type": "code",
   "execution_count": 4,
   "id": "243d0e21",
   "metadata": {},
   "outputs": [
    {
     "data": {
      "text/plain": [
       "[(1, array(0.16266026, dtype=float32)),\n",
       " (2, array(0.23677884, dtype=float32)),\n",
       " (3, array(0.22045273, dtype=float32)),\n",
       " (4, array(0.37129408, dtype=float32)),\n",
       " (5, array(0.38521636, dtype=float32)),\n",
       " (6, array(0.3911258, dtype=float32)),\n",
       " (7, array(0.40334535, dtype=float32)),\n",
       " (8, array(0.46354166, dtype=float32)),\n",
       " (9, array(0.4858774, dtype=float32)),\n",
       " (10, array(0.44821715, dtype=float32)),\n",
       " (11, array(0.5066106, dtype=float32)),\n",
       " (12, array(0.5182292, dtype=float32)),\n",
       " (13, array(0.4815705, dtype=float32)),\n",
       " (14, array(0.47866586, dtype=float32)),\n",
       " (15, array(0.5323518, dtype=float32)),\n",
       " (16, array(0.54597354, dtype=float32)),\n",
       " (17, array(0.5583934, dtype=float32)),\n",
       " (18, array(0.55699116, dtype=float32)),\n",
       " (19, array(0.5485777, dtype=float32)),\n",
       " (20, array(0.5495793, dtype=float32)),\n",
       " (21, array(0.49338943, dtype=float32)),\n",
       " (22, array(0.54747593, dtype=float32)),\n",
       " (23, array(0.56991184, dtype=float32)),\n",
       " (24, array(0.58774036, dtype=float32)),\n",
       " (25, array(0.59354967, dtype=float32)),\n",
       " (26, array(0.6060697, dtype=float32)),\n",
       " (27, array(0.5688101, dtype=float32)),\n",
       " (28, array(0.5974559, dtype=float32)),\n",
       " (29, array(0.6046675, dtype=float32)),\n",
       " (30, array(0.5723157, dtype=float32)),\n",
       " (31, array(0.61248, dtype=float32)),\n",
       " (32, array(0.5896434, dtype=float32)),\n",
       " (33, array(0.60957533, dtype=float32)),\n",
       " (34, array(0.61708736, dtype=float32)),\n",
       " (35, array(0.5478766, dtype=float32)),\n",
       " (36, array(0.5710136, dtype=float32)),\n",
       " (37, array(0.64102566, dtype=float32)),\n",
       " (38, array(0.6366186, dtype=float32)),\n",
       " (39, array(0.63571715, dtype=float32)),\n",
       " (40, array(0.62840545, dtype=float32)),\n",
       " (41, array(0.6505409, dtype=float32)),\n",
       " (42, array(0.64853764, dtype=float32)),\n",
       " (43, array(0.5592949, dtype=float32)),\n",
       " (44, array(0.54196715, dtype=float32)),\n",
       " (45, array(0.64883816, dtype=float32)),\n",
       " (46, array(0.6595553, dtype=float32)),\n",
       " (47, array(0.63982373, dtype=float32)),\n",
       " (48, array(0.65715146, dtype=float32)),\n",
       " (49, array(0.6296074, dtype=float32)),\n",
       " (50, array(0.67528045, dtype=float32)),\n",
       " (51, array(0.67097354, dtype=float32)),\n",
       " (52, array(0.63100964, dtype=float32)),\n",
       " (53, array(0.62560093, dtype=float32)),\n",
       " (54, array(0.64613384, dtype=float32)),\n",
       " (55, array(0.67277646, dtype=float32)),\n",
       " (56, array(0.6546474, dtype=float32)),\n",
       " (57, array(0.68609774, dtype=float32)),\n",
       " (58, array(0.67958736, dtype=float32)),\n",
       " (59, array(0.69611377, dtype=float32)),\n",
       " (60, array(0.6536458, dtype=float32)),\n",
       " (61, array(0.67878604, dtype=float32)),\n",
       " (62, array(0.66316104, dtype=float32)),\n",
       " (63, array(0.6817909, dtype=float32)),\n",
       " (64, array(0.68780047, dtype=float32)),\n",
       " (65, array(0.6988181, dtype=float32)),\n",
       " (66, array(0.71334136, dtype=float32)),\n",
       " (67, array(0.7160457, dtype=float32)),\n",
       " (68, array(0.7245593, dtype=float32)),\n",
       " (69, array(0.7363782, dtype=float32)),\n",
       " (70, array(0.7260617, dtype=float32)),\n",
       " (71, array(0.73046875, dtype=float32)),\n",
       " (72, array(0.7452925, dtype=float32)),\n",
       " (73, array(0.7316707, dtype=float32)),\n",
       " (74, array(0.7545072, dtype=float32)),\n",
       " (75, array(0.75791264, dtype=float32)),\n",
       " (76, array(0.76061696, dtype=float32)),\n",
       " (77, array(0.7663261, dtype=float32)),\n",
       " (78, array(0.77163464, dtype=float32)),\n",
       " (79, array(0.7701322, dtype=float32)),\n",
       " (80, array(0.775641, dtype=float32)),\n",
       " (81, array(0.77524036, dtype=float32)),\n",
       " (82, array(0.77734375, dtype=float32)),\n",
       " (83, array(0.77684295, dtype=float32)),\n",
       " (84, array(0.7771434, dtype=float32)),\n",
       " (85, array(0.7780449, dtype=float32)),\n",
       " (86, array(0.77784455, dtype=float32)),\n",
       " (87, array(0.7780449, dtype=float32)),\n",
       " (88, array(0.7772436, dtype=float32)),\n",
       " (89, array(0.7795473, dtype=float32)),\n",
       " (90, array(0.78155047, dtype=float32)),\n",
       " (91, array(0.78094953, dtype=float32)),\n",
       " (92, array(0.78165066, dtype=float32)),\n",
       " (93, array(0.78084934, dtype=float32)),\n",
       " (94, array(0.7817508, dtype=float32)),\n",
       " (95, array(0.7802484, dtype=float32)),\n",
       " (96, array(0.78135014, dtype=float32)),\n",
       " (97, array(0.78145033, dtype=float32)),\n",
       " (98, array(0.78114986, dtype=float32)),\n",
       " (99, array(0.7807492, dtype=float32)),\n",
       " (100, array(0.78094953, dtype=float32))]"
      ]
     },
     "execution_count": 4,
     "metadata": {},
     "output_type": "execute_result"
    }
   ],
   "source": [
    "acc_random"
   ]
  },
  {
   "cell_type": "code",
   "execution_count": 15,
   "id": "1e54e0aa",
   "metadata": {},
   "outputs": [
    {
     "name": "stdout",
     "output_type": "stream",
     "text": [
      "/projectnb/ivc-ml/chaupham/anytime/param_share/incremental_training\n"
     ]
    }
   ],
   "source": [
    "cd /projectnb/ivc-ml/chaupham/anytime/param_share/incremental_training/"
   ]
  },
  {
   "cell_type": "code",
   "execution_count": 17,
   "id": "de883085",
   "metadata": {},
   "outputs": [
    {
     "ename": "ModuleNotFoundError",
     "evalue": "No module named 'fvcore'",
     "output_type": "error",
     "traceback": [
      "\u001b[0;31m---------------------------------------------------------------------------\u001b[0m",
      "\u001b[0;31mModuleNotFoundError\u001b[0m                       Traceback (most recent call last)",
      "\u001b[0;32m<ipython-input-17-c10d5a94a8ca>\u001b[0m in \u001b[0;36m<module>\u001b[0;34m\u001b[0m\n\u001b[0;32m----> 1\u001b[0;31m \u001b[0mcheckpoint\u001b[0m \u001b[0;34m=\u001b[0m \u001b[0mtorch\u001b[0m\u001b[0;34m.\u001b[0m\u001b[0mload\u001b[0m\u001b[0;34m(\u001b[0m\u001b[0;34m'/projectnb/ivc-ml/chaupham/anytime/param_share/incremental_training/snapshots/cifar100_ours_slim_depth/checkpoint.pth.tar'\u001b[0m\u001b[0;34m,\u001b[0m \u001b[0mmap_location\u001b[0m\u001b[0;34m=\u001b[0m\u001b[0mtorch\u001b[0m\u001b[0;34m.\u001b[0m\u001b[0mdevice\u001b[0m\u001b[0;34m(\u001b[0m\u001b[0;34m'cpu'\u001b[0m\u001b[0;34m)\u001b[0m\u001b[0;34m)\u001b[0m\u001b[0;34m\u001b[0m\u001b[0;34m\u001b[0m\u001b[0m\n\u001b[0m\u001b[1;32m      2\u001b[0m \u001b[0mcheckpoint\u001b[0m\u001b[0;34m[\u001b[0m\u001b[0;34m'recorder'\u001b[0m\u001b[0;34m]\u001b[0m\u001b[0;34m.\u001b[0m\u001b[0mepoch_accuracy\u001b[0m\u001b[0;34m\u001b[0m\u001b[0;34m\u001b[0m\u001b[0m\n",
      "\u001b[0;32m/share/pkg.7/pytorch/1.11.0/install/lib/SCC/../python3.8/site-packages/torch/serialization.py\u001b[0m in \u001b[0;36mload\u001b[0;34m(f, map_location, pickle_module, **pickle_load_args)\u001b[0m\n\u001b[1;32m    710\u001b[0m                     \u001b[0mopened_file\u001b[0m\u001b[0;34m.\u001b[0m\u001b[0mseek\u001b[0m\u001b[0;34m(\u001b[0m\u001b[0morig_position\u001b[0m\u001b[0;34m)\u001b[0m\u001b[0;34m\u001b[0m\u001b[0;34m\u001b[0m\u001b[0m\n\u001b[1;32m    711\u001b[0m                     \u001b[0;32mreturn\u001b[0m \u001b[0mtorch\u001b[0m\u001b[0;34m.\u001b[0m\u001b[0mjit\u001b[0m\u001b[0;34m.\u001b[0m\u001b[0mload\u001b[0m\u001b[0;34m(\u001b[0m\u001b[0mopened_file\u001b[0m\u001b[0;34m)\u001b[0m\u001b[0;34m\u001b[0m\u001b[0;34m\u001b[0m\u001b[0m\n\u001b[0;32m--> 712\u001b[0;31m                 \u001b[0;32mreturn\u001b[0m \u001b[0m_load\u001b[0m\u001b[0;34m(\u001b[0m\u001b[0mopened_zipfile\u001b[0m\u001b[0;34m,\u001b[0m \u001b[0mmap_location\u001b[0m\u001b[0;34m,\u001b[0m \u001b[0mpickle_module\u001b[0m\u001b[0;34m,\u001b[0m \u001b[0;34m**\u001b[0m\u001b[0mpickle_load_args\u001b[0m\u001b[0;34m)\u001b[0m\u001b[0;34m\u001b[0m\u001b[0;34m\u001b[0m\u001b[0m\n\u001b[0m\u001b[1;32m    713\u001b[0m         \u001b[0;32mreturn\u001b[0m \u001b[0m_legacy_load\u001b[0m\u001b[0;34m(\u001b[0m\u001b[0mopened_file\u001b[0m\u001b[0;34m,\u001b[0m \u001b[0mmap_location\u001b[0m\u001b[0;34m,\u001b[0m \u001b[0mpickle_module\u001b[0m\u001b[0;34m,\u001b[0m \u001b[0;34m**\u001b[0m\u001b[0mpickle_load_args\u001b[0m\u001b[0;34m)\u001b[0m\u001b[0;34m\u001b[0m\u001b[0;34m\u001b[0m\u001b[0m\n\u001b[1;32m    714\u001b[0m \u001b[0;34m\u001b[0m\u001b[0m\n",
      "\u001b[0;32m/share/pkg.7/pytorch/1.11.0/install/lib/SCC/../python3.8/site-packages/torch/serialization.py\u001b[0m in \u001b[0;36m_load\u001b[0;34m(zip_file, map_location, pickle_module, pickle_file, **pickle_load_args)\u001b[0m\n\u001b[1;32m   1044\u001b[0m     \u001b[0munpickler\u001b[0m \u001b[0;34m=\u001b[0m \u001b[0mUnpicklerWrapper\u001b[0m\u001b[0;34m(\u001b[0m\u001b[0mdata_file\u001b[0m\u001b[0;34m,\u001b[0m \u001b[0;34m**\u001b[0m\u001b[0mpickle_load_args\u001b[0m\u001b[0;34m)\u001b[0m\u001b[0;34m\u001b[0m\u001b[0;34m\u001b[0m\u001b[0m\n\u001b[1;32m   1045\u001b[0m     \u001b[0munpickler\u001b[0m\u001b[0;34m.\u001b[0m\u001b[0mpersistent_load\u001b[0m \u001b[0;34m=\u001b[0m \u001b[0mpersistent_load\u001b[0m\u001b[0;34m\u001b[0m\u001b[0;34m\u001b[0m\u001b[0m\n\u001b[0;32m-> 1046\u001b[0;31m     \u001b[0mresult\u001b[0m \u001b[0;34m=\u001b[0m \u001b[0munpickler\u001b[0m\u001b[0;34m.\u001b[0m\u001b[0mload\u001b[0m\u001b[0;34m(\u001b[0m\u001b[0;34m)\u001b[0m\u001b[0;34m\u001b[0m\u001b[0;34m\u001b[0m\u001b[0m\n\u001b[0m\u001b[1;32m   1047\u001b[0m \u001b[0;34m\u001b[0m\u001b[0m\n\u001b[1;32m   1048\u001b[0m     \u001b[0mtorch\u001b[0m\u001b[0;34m.\u001b[0m\u001b[0m_utils\u001b[0m\u001b[0;34m.\u001b[0m\u001b[0m_validate_loaded_sparse_tensors\u001b[0m\u001b[0;34m(\u001b[0m\u001b[0;34m)\u001b[0m\u001b[0;34m\u001b[0m\u001b[0;34m\u001b[0m\u001b[0m\n",
      "\u001b[0;32m/share/pkg.7/pytorch/1.11.0/install/lib/SCC/../python3.8/site-packages/torch/serialization.py\u001b[0m in \u001b[0;36mfind_class\u001b[0;34m(self, mod_name, name)\u001b[0m\n\u001b[1;32m   1037\u001b[0m                     \u001b[0;32mpass\u001b[0m\u001b[0;34m\u001b[0m\u001b[0;34m\u001b[0m\u001b[0m\n\u001b[1;32m   1038\u001b[0m             \u001b[0mmod_name\u001b[0m \u001b[0;34m=\u001b[0m \u001b[0mload_module_mapping\u001b[0m\u001b[0;34m.\u001b[0m\u001b[0mget\u001b[0m\u001b[0;34m(\u001b[0m\u001b[0mmod_name\u001b[0m\u001b[0;34m,\u001b[0m \u001b[0mmod_name\u001b[0m\u001b[0;34m)\u001b[0m\u001b[0;34m\u001b[0m\u001b[0;34m\u001b[0m\u001b[0m\n\u001b[0;32m-> 1039\u001b[0;31m             \u001b[0;32mreturn\u001b[0m \u001b[0msuper\u001b[0m\u001b[0;34m(\u001b[0m\u001b[0;34m)\u001b[0m\u001b[0;34m.\u001b[0m\u001b[0mfind_class\u001b[0m\u001b[0;34m(\u001b[0m\u001b[0mmod_name\u001b[0m\u001b[0;34m,\u001b[0m \u001b[0mname\u001b[0m\u001b[0;34m)\u001b[0m\u001b[0;34m\u001b[0m\u001b[0;34m\u001b[0m\u001b[0m\n\u001b[0m\u001b[1;32m   1040\u001b[0m \u001b[0;34m\u001b[0m\u001b[0m\n\u001b[1;32m   1041\u001b[0m     \u001b[0;31m# Load the data (which may in turn use `persistent_load` to load tensors)\u001b[0m\u001b[0;34m\u001b[0m\u001b[0;34m\u001b[0m\u001b[0;34m\u001b[0m\u001b[0m\n",
      "\u001b[0;32m/projectnb/ivc-ml/chaupham/anytime/param_share/incremental_training/utils.py\u001b[0m in \u001b[0;36m<module>\u001b[0;34m\u001b[0m\n\u001b[1;32m     11\u001b[0m \u001b[0mmatplotlib\u001b[0m\u001b[0;34m.\u001b[0m\u001b[0muse\u001b[0m\u001b[0;34m(\u001b[0m\u001b[0;34m'agg'\u001b[0m\u001b[0;34m)\u001b[0m\u001b[0;34m\u001b[0m\u001b[0;34m\u001b[0m\u001b[0m\n\u001b[1;32m     12\u001b[0m \u001b[0;32mimport\u001b[0m \u001b[0mmatplotlib\u001b[0m\u001b[0;34m.\u001b[0m\u001b[0mpyplot\u001b[0m \u001b[0;32mas\u001b[0m \u001b[0mplt\u001b[0m\u001b[0;34m\u001b[0m\u001b[0;34m\u001b[0m\u001b[0m\n\u001b[0;32m---> 13\u001b[0;31m \u001b[0;32mfrom\u001b[0m \u001b[0mfvcore\u001b[0m\u001b[0;34m.\u001b[0m\u001b[0mnn\u001b[0m \u001b[0;32mimport\u001b[0m \u001b[0mFlopCountAnalysis\u001b[0m\u001b[0;34m\u001b[0m\u001b[0;34m\u001b[0m\u001b[0m\n\u001b[0m\u001b[1;32m     14\u001b[0m \u001b[0;32mfrom\u001b[0m \u001b[0mnumbers\u001b[0m \u001b[0;32mimport\u001b[0m \u001b[0mNumber\u001b[0m\u001b[0;34m\u001b[0m\u001b[0;34m\u001b[0m\u001b[0m\n\u001b[1;32m     15\u001b[0m \u001b[0;32mfrom\u001b[0m \u001b[0mcollections\u001b[0m \u001b[0;32mimport\u001b[0m \u001b[0mCounter\u001b[0m \u001b[0;32mas\u001b[0m \u001b[0mC\u001b[0m\u001b[0;34m\u001b[0m\u001b[0;34m\u001b[0m\u001b[0m\n",
      "\u001b[0;31mModuleNotFoundError\u001b[0m: No module named 'fvcore'"
     ]
    }
   ],
   "source": [
    "checkpoint = torch.load('/projectnb/ivc-ml/chaupham/anytime/param_share/incremental_training/snapshots/cifar100_ours_slim_depth/checkpoint.pth.tar', map_location=torch.device('cpu'))\n",
    "checkpoint['recorder'].epoch_accuracy"
   ]
  },
  {
   "cell_type": "code",
   "execution_count": 16,
   "id": "fa965ead",
   "metadata": {},
   "outputs": [
    {
     "data": {
      "text/plain": [
       "'/projectnb/ivc-ml/chaupham/anytime/param_share/incremental_training'"
      ]
     },
     "execution_count": 16,
     "metadata": {},
     "output_type": "execute_result"
    }
   ],
   "source": [
    "pwd"
   ]
  },
  {
   "cell_type": "code",
   "execution_count": 14,
   "id": "51956e50",
   "metadata": {},
   "outputs": [
    {
     "name": "stdout",
     "output_type": "stream",
     "text": [
      "CONTRIBUTING.md        \u001b[0m\u001b[01;34mbuild\u001b[0m/                \u001b[01;34mjupyter_analysis\u001b[0m/  setup.py\r\n",
      "LICENSE                \u001b[01;34mgrowneuron\u001b[0m/           \u001b[01;34moutputs\u001b[0m/           \u001b[01;34m~\u001b[0m/\r\n",
      "README.md              \u001b[01;34mgrowneuron.egg-info\u001b[0m/  run.sh\r\n",
      "Student_Teacher.ipynb  \u001b[01;34mimgs\u001b[0m/                 \u001b[01;34mscc\u001b[0m/\r\n"
     ]
    }
   ],
   "source": [
    "ls"
   ]
  },
  {
   "cell_type": "code",
   "execution_count": null,
   "id": "e6a41e5c",
   "metadata": {},
   "outputs": [
    {
     "name": "stdout",
     "output_type": "stream",
     "text": [
      "\u001b[?1h\u001b=\r",
      "\u001b[m\r\n",
      "------------------------ /share/module.7/bioinformatics ------------------------\u001b[m\r\n",
      "   2brad_denovo/2019-01-22_giteec5016\u001b[m\r\n",
      "   2brad_gatk/2019-01-22_git1fcc9e8\u001b[m\r\n",
      "   admixture/1.3.0\u001b[m\r\n",
      "   agat/0.7.0\u001b[m\r\n",
      "   angsd/0.923\u001b[m\r\n",
      "   angsd/0.935                            (D)\u001b[m\r\n",
      "   annovar/2018apr\u001b[m\r\n",
      "   annovar/2019oct24                      (D)\u001b[m\r\n",
      "   anvio/6.1\u001b[m\r\n",
      "   anvio/7.0\u001b[m\r\n",
      "   anvio/7.1                              (D)\u001b[m\r\n",
      "   aracne-ap/2018_github30967ea\u001b[m\r\n",
      "   artemis/18.0.3\u001b[m\r\n",
      "   atacgraph/2021-04-15_gitf5dc970\u001b[m\r\n",
      "   augustus/3.3.2\u001b[m\r\n",
      "   bakta/1.5.1\u001b[m\r\n",
      "   bamtools/2.5.1\u001b[m\r\n",
      "   bamutil/1.0.14\u001b[m\r\n",
      "   basemount/0.15.103.3011\u001b[m\r\n",
      "   basespace-cli/0.8.12.590\u001b[m\r\n",
      "   basespace-cli/0.10.8                   (D)\u001b[m\r\n",
      "\u001b[7mlines 1-23\u001b[m\u001b[K"
     ]
    }
   ],
   "source": [
    "!module avail"
   ]
  },
  {
   "cell_type": "code",
   "execution_count": null,
   "id": "5c62be74",
   "metadata": {},
   "outputs": [],
   "source": []
  }
 ],
 "metadata": {
  "kernelspec": {
   "display_name": "Python 3",
   "language": "python",
   "name": "python3"
  },
  "language_info": {
   "codemirror_mode": {
    "name": "ipython",
    "version": 3
   },
   "file_extension": ".py",
   "mimetype": "text/x-python",
   "name": "python",
   "nbconvert_exporter": "python",
   "pygments_lexer": "ipython3",
   "version": "3.8.10"
  }
 },
 "nbformat": 4,
 "nbformat_minor": 5
}
