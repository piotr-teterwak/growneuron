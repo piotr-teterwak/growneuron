{
 "cells": [
  {
   "cell_type": "code",
   "execution_count": 95,
   "id": "43674d97",
   "metadata": {},
   "outputs": [],
   "source": [
    "import matplotlib.pyplot as plt\n",
    "import numpy as np\n",
    "%matplotlib inline\n",
    "\n",
    "import os\n",
    "import tensorflow as tf\n",
    "import torch\n",
    "from tensorflow.python.summary.summary_iterator import summary_iterator\n"
   ]
  },
  {
   "cell_type": "code",
   "execution_count": 4,
   "id": "8b9b6a8c",
   "metadata": {},
   "outputs": [],
   "source": [
    "def parse_eventfiles(summary_dir): \n",
    "    step_acc_list = []\n",
    "    for filename in os.listdir(summary_dir):\n",
    "        sum_iter =  summary_iterator(os.path.join(summary_dir,filename))\n",
    "        for summ in sum_iter:\n",
    "            if summ.HasField('summary'):\n",
    "                if summ.summary.value[0].tag == 'test/accuracy':\n",
    "                    step_acc_list.append((summ.step,(tf.make_ndarray(summ.summary.value[0].tensor) * 100)))\n",
    "\n",
    "                    \n",
    "    return sorted(step_acc_list, key=lambda x: x[0])"
   ]
  },
  {
   "cell_type": "code",
   "execution_count": 30,
   "id": "13a159e6",
   "metadata": {},
   "outputs": [
    {
     "name": "stdout",
     "output_type": "stream",
     "text": [
      "/projectnb/ivc-ml/piotrt/gradmax/growneuron/jupyter_analysis\n"
     ]
    }
   ],
   "source": [
    "cd /projectnb/ivc-ml/piotrt/gradmax/growneuron/jupyter_analysis\n"
   ]
  },
  {
   "cell_type": "code",
   "execution_count": 31,
   "id": "fb7357f8",
   "metadata": {},
   "outputs": [],
   "source": [
    "acc_gradmax_7_1 = list(zip(*parse_eventfiles('../outputs/cifar/7000_single/gm_gradmax_cifar/summaries/')))[1]\n",
    "acc_firefly_7_1 = list(zip(*parse_eventfiles('../outputs/cifar/7000_single/gm_firefly_cifar/summaries/')))[1]\n",
    "acc_random_7_1 = list(zip(*parse_eventfiles('../outputs/cifar/7000_single/gm_random_cifar/summaries/')))[1]\n",
    "\n",
    "acc_gradmax_7_2 = list(zip(*parse_eventfiles('../outputs/cifar/7000_single_2/gm_gradmax_cifar/summaries/')))[1]\n",
    "acc_firefly_7_2 = list(zip(*parse_eventfiles('../outputs/cifar/7000_single_2/gm_firefly_cifar/summaries/')))[1]\n",
    "acc_random_7_2 = list(zip(*parse_eventfiles('../outputs/cifar/7000_single_2/gm_random_cifar/summaries/')))[1]\n",
    "\n",
    "acc_gradmax_7_3 = list(zip(*parse_eventfiles('../outputs/cifar/7000_single_3/gm_gradmax_cifar/summaries/')))[1]\n",
    "acc_firefly_7_3 = list(zip(*parse_eventfiles('../outputs/cifar/7000_single_3/gm_firefly_cifar/summaries/')))[1]\n",
    "acc_random_7_3 = list(zip(*parse_eventfiles('../outputs/cifar/7000_single_3/gm_random_cifar/summaries/')))[1]"
   ]
  },
  {
   "cell_type": "code",
   "execution_count": 32,
   "id": "7c77b9e7",
   "metadata": {},
   "outputs": [],
   "source": [
    "acc_random_7_avg = (acc_random_7_1[-1] + acc_random_7_2[-1] + acc_random_7_3[-1])/3.\n",
    "acc_firefly_7_avg = (acc_firefly_7_1[-1] + acc_firefly_7_2[-1] + acc_firefly_7_3[-1])/3.\n",
    "acc_gradmax_7_avg = (acc_gradmax_7_1[-1] + acc_gradmax_7_2[-1] + acc_gradmax_7_3[-1])/3.\n"
   ]
  },
  {
   "cell_type": "code",
   "execution_count": 33,
   "id": "ad5983c8",
   "metadata": {},
   "outputs": [],
   "source": [
    "acc_gradmax_11_1 = list(zip(*parse_eventfiles('../outputs/cifar/11000_single/gm_gradmax_cifar/summaries/')))[1]\n",
    "acc_firefly_11_1 = list(zip(*parse_eventfiles('../outputs/cifar/11000_single/gm_firefly_cifar/summaries/')))[1]\n",
    "acc_random_11_1 = list(zip(*parse_eventfiles('../outputs/cifar/11000_single/gm_random_cifar/summaries/')))[1]\n",
    "\n",
    "acc_gradmax_11_2 = list(zip(*parse_eventfiles('../outputs/cifar/11000_single_2/gm_gradmax_cifar/summaries/')))[1]\n",
    "acc_firefly_11_2 = list(zip(*parse_eventfiles('../outputs/cifar/11000_single_2/gm_firefly_cifar/summaries/')))[1]\n",
    "acc_random_11_2 = list(zip(*parse_eventfiles('../outputs/cifar/11000_single_2/gm_random_cifar/summaries/')))[1]\n",
    "\n",
    "acc_gradmax_11_3 = list(zip(*parse_eventfiles('../outputs/cifar/11000_single_3/gm_gradmax_cifar/summaries/')))[1]\n",
    "acc_firefly_11_3 = list(zip(*parse_eventfiles('../outputs/cifar/11000_single_3/gm_firefly_cifar/summaries/')))[1]\n",
    "acc_random_11_3 = list(zip(*parse_eventfiles('../outputs/cifar/11000_single_3/gm_random_cifar/summaries/')))[1]"
   ]
  },
  {
   "cell_type": "code",
   "execution_count": 34,
   "id": "699ccaea",
   "metadata": {},
   "outputs": [],
   "source": [
    "acc_random_11_avg = (acc_random_11_1[-1] + acc_random_11_2[-1] + acc_random_11_3[-1])/3.\n",
    "acc_firefly_11_avg = (acc_firefly_11_1[-1] + acc_firefly_11_2[-1] + acc_firefly_11_3[-1])/3.\n",
    "acc_gradmax_11_avg = (acc_gradmax_11_1[-1] + acc_gradmax_11_2[-1] + acc_gradmax_11_3[-1])/3.\n"
   ]
  },
  {
   "cell_type": "code",
   "execution_count": 35,
   "id": "90f79b8a",
   "metadata": {},
   "outputs": [],
   "source": [
    "acc_gradmax_15_1 = list(zip(*parse_eventfiles('../outputs/cifar/15000_single/gm_gradmax_cifar/summaries/')))[1]\n",
    "acc_firefly_15_1 = list(zip(*parse_eventfiles('../outputs/cifar/15000_single/gm_firefly_cifar/summaries/')))[1]\n",
    "acc_random_15_1 = list(zip(*parse_eventfiles('../outputs/cifar/15000_single/gm_random_cifar/summaries/')))[1]\n",
    "\n",
    "acc_gradmax_15_2 = list(zip(*parse_eventfiles('../outputs/cifar/15000_single_2/gm_gradmax_cifar/summaries/')))[1]\n",
    "acc_firefly_15_2 = list(zip(*parse_eventfiles('../outputs/cifar/15000_single_2/gm_firefly_cifar/summaries/')))[1]\n",
    "acc_random_15_2 = list(zip(*parse_eventfiles('../outputs/cifar/15000_single_2/gm_random_cifar/summaries/')))[1]\n",
    "\n",
    "acc_gradmax_15_3 = list(zip(*parse_eventfiles('../outputs/cifar/15000_single_3/gm_gradmax_cifar/summaries/')))[1]\n",
    "acc_firefly_15_3 = list(zip(*parse_eventfiles('../outputs/cifar/15000_single_3/gm_firefly_cifar/summaries/')))[1]\n",
    "acc_random_15_3 = list(zip(*parse_eventfiles('../outputs/cifar/15000_single_3/gm_random_cifar/summaries/')))[1]"
   ]
  },
  {
   "cell_type": "code",
   "execution_count": 36,
   "id": "54118420",
   "metadata": {},
   "outputs": [],
   "source": [
    "acc_random_15_avg = (acc_random_15_1[-1] + acc_random_15_2[-1] + acc_random_15_3[-1])/3.\n",
    "acc_firefly_15_avg = (acc_firefly_15_1[-1] + acc_firefly_15_2[-1] + acc_firefly_15_3[-1])/3.\n",
    "acc_gradmax_15_avg = (acc_gradmax_15_1[-1] + acc_gradmax_15_2[-1] + acc_gradmax_15_3[-1])/3.\n"
   ]
  },
  {
   "cell_type": "code",
   "execution_count": 37,
   "id": "c2ecd09f",
   "metadata": {},
   "outputs": [],
   "source": [
    "acc_gradmax_16_1 = list(zip(*parse_eventfiles('../outputs/cifar/16422_single/gm_gradmax_cifar/summaries/')))[1]\n",
    "acc_firefly_16_1 = list(zip(*parse_eventfiles('../outputs/cifar/16422_single/gm_firefly_cifar/summaries/')))[1]\n",
    "acc_random_16_1 = list(zip(*parse_eventfiles('../outputs/cifar/16422_single/gm_random_cifar/summaries/')))[1]\n",
    "\n",
    "acc_gradmax_16_2 = list(zip(*parse_eventfiles('../outputs/cifar/16422_single_2/gm_gradmax_cifar/summaries/')))[1]\n",
    "acc_firefly_16_2 = list(zip(*parse_eventfiles('../outputs/cifar/16422_single_2/gm_firefly_cifar/summaries/')))[1]\n",
    "acc_random_16_2 = list(zip(*parse_eventfiles('../outputs/cifar/16422_single_2/gm_random_cifar/summaries/')))[1]\n",
    "\n",
    "acc_gradmax_16_3 = list(zip(*parse_eventfiles('../outputs/cifar/16422_single_3/gm_gradmax_cifar/summaries/')))[1]\n",
    "acc_firefly_16_3 = list(zip(*parse_eventfiles('../outputs/cifar/16422_single_3/gm_firefly_cifar/summaries/')))[1]\n",
    "acc_random_16_3 = list(zip(*parse_eventfiles('../outputs/cifar/16422_single_3/gm_random_cifar/summaries/')))[1]"
   ]
  },
  {
   "cell_type": "code",
   "execution_count": 38,
   "id": "e96ec91e",
   "metadata": {},
   "outputs": [],
   "source": [
    "acc_random_16_avg = (acc_random_16_1[-1] + acc_random_16_2[-1] + acc_random_16_3[-1])/3.\n",
    "acc_firefly_16_avg = (acc_firefly_16_1[-1] + acc_firefly_16_2[-1] + acc_firefly_16_3[-1])/3.\n",
    "acc_gradmax_16_avg = (acc_gradmax_16_1[-1] + acc_gradmax_16_2[-1] + acc_gradmax_16_3[-1])/3.\n"
   ]
  },
  {
   "cell_type": "code",
   "execution_count": 39,
   "id": "fc703fa2",
   "metadata": {},
   "outputs": [],
   "source": [
    "acc_gradmax_19_1 = list(zip(*parse_eventfiles('../outputs/cifar/19000_single/gm_gradmax_cifar/summaries/')))[1]\n",
    "acc_firefly_19_1 = list(zip(*parse_eventfiles('../outputs/cifar/19000_single/gm_firefly_cifar/summaries/')))[1]\n",
    "acc_random_19_1 = list(zip(*parse_eventfiles('../outputs/cifar/19000_single/gm_random_cifar/summaries/')))[1]\n",
    "\n",
    "acc_gradmax_19_2 = list(zip(*parse_eventfiles('../outputs/cifar/19000_single_2/gm_gradmax_cifar/summaries/')))[1]\n",
    "acc_firefly_19_2 = list(zip(*parse_eventfiles('../outputs/cifar/19000_single_2/gm_firefly_cifar/summaries/')))[1]\n",
    "acc_random_19_2 = list(zip(*parse_eventfiles('../outputs/cifar/19000_single_2/gm_random_cifar/summaries/')))[1]\n",
    "\n",
    "acc_gradmax_19_3 = list(zip(*parse_eventfiles('../outputs/cifar/19000_single_3/gm_gradmax_cifar/summaries/')))[1]\n",
    "acc_firefly_19_3 = list(zip(*parse_eventfiles('../outputs/cifar/19000_single_3/gm_firefly_cifar/summaries/')))[1]\n",
    "acc_random_19_3 = list(zip(*parse_eventfiles('../outputs/cifar/19000_single_3/gm_random_cifar/summaries/')))[1]"
   ]
  },
  {
   "cell_type": "code",
   "execution_count": 40,
   "id": "c630ad68",
   "metadata": {},
   "outputs": [],
   "source": [
    "acc_random_19_avg = (acc_random_19_1[-1] + acc_random_19_2[-1] + acc_random_19_3[-1])/3.\n",
    "acc_firefly_19_avg = (acc_firefly_19_1[-1] + acc_firefly_19_2[-1] + acc_firefly_19_3[-1])/3.\n",
    "acc_gradmax_19_avg = (acc_gradmax_19_1[-1] + acc_gradmax_19_2[-1] + acc_gradmax_19_3[-1])/3.\n"
   ]
  },
  {
   "cell_type": "code",
   "execution_count": 41,
   "id": "af6d1a2b",
   "metadata": {},
   "outputs": [],
   "source": [
    "acc_gradmax_24_1 = list(zip(*parse_eventfiles('../outputs/cifar/24570_single/gm_gradmax_cifar/summaries/')))[1]\n",
    "acc_firefly_24_1 = list(zip(*parse_eventfiles('../outputs/cifar/24570_single/gm_firefly_cifar/summaries/')))[1]\n",
    "acc_random_24_1 = list(zip(*parse_eventfiles('../outputs/cifar/24570_single/gm_random_cifar/summaries/')))[1]\n",
    "\n",
    "acc_gradmax_24_2 = list(zip(*parse_eventfiles('../outputs/cifar/24570_single_2/gm_gradmax_cifar/summaries/')))[1]\n",
    "acc_firefly_24_2 = list(zip(*parse_eventfiles('../outputs/cifar/24570_single_2/gm_firefly_cifar/summaries/')))[1]\n",
    "acc_random_24_2 = list(zip(*parse_eventfiles('../outputs/cifar/24570_single_2/gm_random_cifar/summaries/')))[1]\n",
    "\n",
    "acc_gradmax_24_3 = list(zip(*parse_eventfiles('../outputs/cifar/24570_single_3/gm_gradmax_cifar/summaries/')))[1]\n",
    "acc_firefly_24_3 = list(zip(*parse_eventfiles('../outputs/cifar/24570_single_3/gm_firefly_cifar/summaries/')))[1]\n",
    "acc_random_24_3 = list(zip(*parse_eventfiles('../outputs/cifar/24570_single_3/gm_random_cifar/summaries/')))[1]"
   ]
  },
  {
   "cell_type": "code",
   "execution_count": 42,
   "id": "7ed52c8f",
   "metadata": {},
   "outputs": [],
   "source": [
    "acc_random_24_avg = (acc_random_24_1[-1] + acc_random_24_2[-1] + acc_random_24_3[-1])/3.\n",
    "acc_firefly_24_avg = (acc_firefly_24_1[-1] + acc_firefly_24_2[-1] + acc_firefly_24_3[-1])/3.\n",
    "acc_gradmax_24_avg = (acc_gradmax_24_1[-1] + acc_gradmax_24_2[-1] + acc_gradmax_24_3[-1])/3.\n"
   ]
  },
  {
   "cell_type": "code",
   "execution_count": 12,
   "id": "1e54e0aa",
   "metadata": {},
   "outputs": [
    {
     "name": "stdout",
     "output_type": "stream",
     "text": [
      "/projectnb/ivc-ml/chaupham/anytime/param_share/incremental_training\n"
     ]
    }
   ],
   "source": [
    "cd /projectnb/ivc-ml/chaupham/anytime/param_share/incremental_training/"
   ]
  },
  {
   "cell_type": "code",
   "execution_count": 13,
   "id": "de883085",
   "metadata": {},
   "outputs": [],
   "source": [
    "#checkpoint = torch.load('/projectnb/ivc-ml/chaupham/anytime/param_share/incremental_training/snapshots/cifar100_ours_slim_depth/checkpoint.pth.tar', map_location=torch.device('cpu'))\n",
    "#acc_ours = checkpoint['recorder'].epoch_accuracy[:,1]"
   ]
  },
  {
   "cell_type": "code",
   "execution_count": null,
   "id": "4ef160db",
   "metadata": {},
   "outputs": [],
   "source": [
    "growths = np.array([27, 42, 57, 74, 94])"
   ]
  },
  {
   "cell_type": "code",
   "execution_count": 43,
   "id": "c3b6d43a",
   "metadata": {},
   "outputs": [],
   "source": [
    "checkpoint = torch.load('/projectnb/ivc-ml/chaupham/anytime/param_share/incremental_training/snapshots/cifar100_ours_ens_bank_size_8_v2_grow_18/checkpoint.pth.tar', map_location=torch.device('cpu'))\n",
    "acc_our_ens_18_1 = checkpoint['recorder'].epoch_accuracy[:,1]\n",
    "\n",
    "checkpoint = torch.load('/projectnb/ivc-ml/chaupham/anytime/param_share/incremental_training/snapshots/cifar100_ours_ens_bank_size_8_v2_grow_18_seed_21979/checkpoint.pth.tar', map_location=torch.device('cpu'))\n",
    "acc_our_ens_18_2 = checkpoint['recorder'].epoch_accuracy[:,1]\n",
    "\n",
    "checkpoint = torch.load('/projectnb/ivc-ml/chaupham/anytime/param_share/incremental_training/snapshots/cifar100_ours_ens_bank_size_8_v2_grow_18_seed_36519/checkpoint.pth.tar', map_location=torch.device('cpu'))\n",
    "acc_our_ens_18_3 = checkpoint['recorder'].epoch_accuracy[:,1]"
   ]
  },
  {
   "cell_type": "code",
   "execution_count": 56,
   "id": "d3855a21",
   "metadata": {},
   "outputs": [],
   "source": [
    "our_ens_average_18 = (acc_our_ens_18_1 + acc_our_ens_18_2 + acc_our_ens_18_3)/3."
   ]
  },
  {
   "cell_type": "code",
   "execution_count": 59,
   "id": "2c10f246",
   "metadata": {},
   "outputs": [],
   "source": [
    "checkpoint = torch.load('/projectnb/ivc-ml/chaupham/anytime/param_share/incremental_training/snapshots/cifar100_ours_ens_bank_size_8_v2_grow_27_seed_44762/checkpoint.pth.tar', map_location=torch.device('cpu'))\n",
    "acc_our_ens_27_1 = checkpoint['recorder'].epoch_accuracy[:,1]\n",
    "\n",
    "#checkpoint = torch.load('/projectnb/ivc-ml/chaupham/anytime/param_share/incremental_training/snapshots/cifar100_ours_ens_bank_size_8_v2_grow_27_seed_64374/checkpoint.pth.tar', map_location=torch.device('cpu'))\n",
    "#acc_our_ens_27_2 = checkpoint['recorder'].epoch_accuracy[:,1]\n",
    "\n",
    "#checkpoint = torch.load('/projectnb/ivc-ml/chaupham/anytime/param_share/incremental_training/snapshots/cifar100_ours_ens_bank_size_8_v2_grow_27_seed_71697/checkpoint.pth.tar', map_location=torch.device('cpu'))\n",
    "#acc_our_ens_27_3 = checkpoint['recorder'].epoch_accuracy[:,1]"
   ]
  },
  {
   "cell_type": "code",
   "execution_count": 60,
   "id": "1a041494",
   "metadata": {},
   "outputs": [],
   "source": [
    "our_ens_average_27 = (acc_our_ens_27_1)"
   ]
  },
  {
   "cell_type": "code",
   "execution_count": 61,
   "id": "fbb695ee",
   "metadata": {},
   "outputs": [],
   "source": [
    "checkpoint = torch.load('/projectnb/ivc-ml/chaupham/anytime/param_share/incremental_training/snapshots/cifar100_ours_ens_bank_size_8_v2_grow_42_seed_44762/checkpoint.pth.tar', map_location=torch.device('cpu'))\n",
    "acc_our_ens_42_1 = checkpoint['recorder'].epoch_accuracy[:,1]\n",
    "\n",
    "checkpoint = torch.load('/projectnb/ivc-ml/chaupham/anytime/param_share/incremental_training/snapshots/cifar100_ours_ens_bank_size_8_v2_grow_42_seed_64374/checkpoint.pth.tar', map_location=torch.device('cpu'))\n",
    "acc_our_ens_42_2 = checkpoint['recorder'].epoch_accuracy[:,1]\n",
    "\n",
    "checkpoint = torch.load('/projectnb/ivc-ml/chaupham/anytime/param_share/incremental_training/snapshots/cifar100_ours_ens_bank_size_8_v2_grow_42_seed_71697/checkpoint.pth.tar', map_location=torch.device('cpu'))\n",
    "acc_our_ens_42_3 = checkpoint['recorder'].epoch_accuracy[:,1]"
   ]
  },
  {
   "cell_type": "code",
   "execution_count": 62,
   "id": "554727a3",
   "metadata": {},
   "outputs": [],
   "source": [
    "our_ens_average_42 = (acc_our_ens_42_1 + acc_our_ens_42_2 + acc_our_ens_42_3)/3."
   ]
  },
  {
   "cell_type": "code",
   "execution_count": 66,
   "id": "b973d223",
   "metadata": {},
   "outputs": [],
   "source": [
    "#checkpoint = torch.load('/projectnb/ivc-ml/chaupham/anytime/param_share/incremental_training/snapshots/cifar100_ours_ens_bank_size_8_v2_grow_57_seed_44762/checkpoint.pth.tar', map_location=torch.device('cpu'))\n",
    "#acc_our_ens_57_1 = checkpoint['recorder'].epoch_accuracy[:,1]\n",
    "\n",
    "#checkpoint = torch.load('/projectnb/ivc-ml/chaupham/anytime/param_share/incremental_training/snapshots/cifar100_ours_ens_bank_size_8_v2_grow_57_seed_64374/checkpoint.pth.tar', map_location=torch.device('cpu'))\n",
    "#acc_our_ens_57_2 = checkpoint['recorder'].epoch_accuracy[:,1]\n",
    "\n",
    "checkpoint = torch.load('/projectnb/ivc-ml/chaupham/anytime/param_share/incremental_training/snapshots/cifar100_ours_ens_bank_size_8_v2_grow_57_seed_71697/checkpoint.pth.tar', map_location=torch.device('cpu'))\n",
    "acc_our_ens_57_3 = checkpoint['recorder'].epoch_accuracy[:,1]"
   ]
  },
  {
   "cell_type": "code",
   "execution_count": 67,
   "id": "f6ebcee7",
   "metadata": {},
   "outputs": [],
   "source": [
    "our_ens_average_57 = (acc_our_ens_57_3)"
   ]
  },
  {
   "cell_type": "code",
   "execution_count": 68,
   "id": "be8b8e9b",
   "metadata": {},
   "outputs": [],
   "source": [
    "checkpoint = torch.load('/projectnb/ivc-ml/chaupham/anytime/param_share/incremental_training/snapshots/cifar100_ours_ens_bank_size_8_v2_grow_74_seed_44762/checkpoint.pth.tar', map_location=torch.device('cpu'))\n",
    "acc_our_ens_74_1 = checkpoint['recorder'].epoch_accuracy[:,1]\n",
    "\n",
    "\n",
    "\n",
    "#checkpoint = torch.load('/projectnb/ivc-ml/chaupham/anytime/param_share/incremental_training/snapshots/cifar100_ours_ens_bank_size_8_v2_grow_42_seed_64374/checkpoint.pth.tar', map_location=torch.device('cpu'))\n",
    "#acc_our_ens_74_2 = checkpoint['recorder'].epoch_accuracy[:,1]\n",
    "\n",
    "checkpoint = torch.load('/projectnb/ivc-ml/chaupham/anytime/param_share/incremental_training/snapshots/cifar100_ours_ens_bank_size_8_v2_grow_74_seed_71697/checkpoint.pth.tar', map_location=torch.device('cpu'))\n",
    "acc_our_ens_74_3 = checkpoint['recorder'].epoch_accuracy[:,1]"
   ]
  },
  {
   "cell_type": "code",
   "execution_count": 69,
   "id": "98223c7a",
   "metadata": {},
   "outputs": [],
   "source": [
    "our_ens_average_74 = (acc_our_ens_74_1  + acc_our_ens_74_3)/2."
   ]
  },
  {
   "cell_type": "code",
   "execution_count": 70,
   "id": "8bd1963f",
   "metadata": {},
   "outputs": [],
   "source": [
    "checkpoint = torch.load('/projectnb/ivc-ml/chaupham/anytime/param_share/incremental_training/snapshots/cifar100_ours_ens_bank_size_8_v2_grow_94_seed_34217/checkpoint.pth.tar', map_location=torch.device('cpu'))\n",
    "acc_our_ens_94_1 = checkpoint['recorder'].epoch_accuracy[:,1]\n",
    "\n",
    "checkpoint = torch.load('/projectnb/ivc-ml/chaupham/anytime/param_share/incremental_training/snapshots/cifar100_ours_ens_bank_size_8_v2_grow_94_seed_44762/checkpoint.pth.tar', map_location=torch.device('cpu'))\n",
    "acc_our_ens_94_2 = checkpoint['recorder'].epoch_accuracy[:,1]\n",
    "\n",
    "checkpoint = torch.load('/projectnb/ivc-ml/chaupham/anytime/param_share/incremental_training/snapshots/cifar100_ours_ens_bank_size_8_v2_grow_94_seed_57612/checkpoint.pth.tar', map_location=torch.device('cpu'))\n",
    "acc_our_ens_94_3 = checkpoint['recorder'].epoch_accuracy[:,1]"
   ]
  },
  {
   "cell_type": "code",
   "execution_count": 71,
   "id": "9144a14a",
   "metadata": {},
   "outputs": [],
   "source": [
    "our_ens_average_94 = (acc_our_ens_94_1 + acc_our_ens_94_2 + acc_our_ens_94_3)/3."
   ]
  },
  {
   "cell_type": "code",
   "execution_count": 99,
   "id": "e57ad881",
   "metadata": {},
   "outputs": [],
   "source": [
    "our_ens_list = [(our_ens_average_18[-1],0.91),(our_ens_average_27[-1],0.86),(our_ens_average_42[-1],0.79),(our_ens_average_57[-1],0.71),(our_ens_average_74[-1],0.63),(our_ens_average_94[-1],0.53)]\n",
    "random_list = [(acc_random_7_avg,0.87),(acc_random_11_avg,0.79),(acc_random_15_avg,0.71),(acc_random_16_avg,0.68),(acc_random_19_avg,0.64),(acc_random_24_avg,0.53)]\n"
   ]
  },
  {
   "cell_type": "code",
   "execution_count": 100,
   "id": "37a3fadb",
   "metadata": {},
   "outputs": [],
   "source": [
    "firefly_list = [(acc_firefly_7_avg,0.87),(acc_firefly_11_avg,0.79),(acc_firefly_15_avg,0.71),(acc_firefly_16_avg,0.68),(acc_firefly_19_avg,0.64),(acc_firefly_24_avg,0.53)]\n"
   ]
  },
  {
   "cell_type": "code",
   "execution_count": 101,
   "id": "2fa0d057",
   "metadata": {},
   "outputs": [],
   "source": [
    "gradmax_list = [(acc_gradmax_7_avg,0.87),(acc_gradmax_11_avg,0.79),(acc_gradmax_15_avg,0.71),(acc_gradmax_16_avg,0.68),(acc_gradmax_19_avg,0.64),(acc_gradmax_24_avg,0.53)]\n"
   ]
  },
  {
   "cell_type": "code",
   "execution_count": 102,
   "id": "82c40d7d",
   "metadata": {},
   "outputs": [
    {
     "data": {
      "text/plain": [
       "array([0.91, 0.86, 0.79, 0.71, 0.63, 0.53])"
      ]
     },
     "execution_count": 102,
     "metadata": {},
     "output_type": "execute_result"
    }
   ],
   "source": [
    "np.array(list(zip(*our_ens_list))[1])"
   ]
  },
  {
   "cell_type": "code",
   "execution_count": 103,
   "id": "e4922e45",
   "metadata": {},
   "outputs": [
    {
     "data": {
      "text/plain": [
       "array([79.35    , 79.1     , 79.35999 , 79.12    , 79.125   , 78.013336],\n",
       "      dtype=float32)"
      ]
     },
     "execution_count": 103,
     "metadata": {},
     "output_type": "execute_result"
    }
   ],
   "source": [
    "np.array(list(zip(*our_ens_list))[0])"
   ]
  },
  {
   "cell_type": "code",
   "execution_count": 113,
   "id": "e4a79948",
   "metadata": {},
   "outputs": [
    {
     "data": {
      "image/png": "[encoded data removed]",
      "text/plain": [
       "<Figure size 640x480 with 1 Axes>"
      ]
     },
     "metadata": {},
     "output_type": "display_data"
    }
   ],
   "source": [
    "plt.scatter(np.array(list(zip(*our_ens_list))[1]),np.array(list(zip(*our_ens_list))[0]), label='ours')\n",
    "plt.scatter(np.array(list(zip(*random_list))[1]),np.array(list(zip(*random_list))[0]), label='random')\n",
    "plt.scatter(np.array(list(zip(*firefly_list))[1]),np.array(list(zip(*firefly_list))[0]), label='firefly')\n",
    "plt.scatter(np.array(list(zip(*gradmax_list))[1]),np.array(list(zip(*gradmax_list))[0]), label='gradmax')\n",
    "#plt.axvline(64, color='black')\n",
    "plt.xlabel('Flops Normalized')\n",
    "plt.ylabel('Top-1 Accuracy on  CIFAR-100')\n",
    "plt.legend()\n",
    "#plt.show()\n",
    "plt.savefig('/projectnb/ivc-ml/piotrt/gradmax/growneuron/jupyter_analysis/Fig1_many_flops.pdf')"
   ]
  },
  {
   "cell_type": "code",
   "execution_count": null,
   "id": "78c64c54",
   "metadata": {},
   "outputs": [],
   "source": [
    "plt.plot(x,acc_ours, label='ours')\n",
    "plt.plot(x, acc_random, label='random')\n",
    "plt.plot(x, acc_firefly, label='firefly')\n",
    "plt.plot(x, acc_gradmax, label='gradmax')\n",
    "plt.axvline(64, color='black')\n",
    "plt.xlabel('Epochs')\n",
    "plt.ylabel('Top-1 Accuracy on  CIFAR-100')\n",
    "plt.legend()\n",
    "plt.savefig('/projectnb/ivc-ml/piotrt/gradmax/growneuron/jupyter_analysis/Fig1.pdf')"
   ]
  },
  {
   "cell_type": "code",
   "execution_count": 81,
   "id": "2f173131",
   "metadata": {},
   "outputs": [],
   "source": [
    "plt.show()\n"
   ]
  },
  {
   "cell_type": "code",
   "execution_count": null,
   "id": "d2c84983",
   "metadata": {},
   "outputs": [],
   "source": []
  }
 ],
 "metadata": {
  "kernelspec": {
   "display_name": "Python 3 (ipykernel)",
   "language": "python",
   "name": "python3"
  },
  "language_info": {
   "codemirror_mode": {
    "name": "ipython",
    "version": 3
   },
   "file_extension": ".py",
   "mimetype": "text/x-python",
   "name": "python",
   "nbconvert_exporter": "python",
   "pygments_lexer": "ipython3",
   "version": "3.8.13"
  }
 },
 "nbformat": 4,
 "nbformat_minor": 5
}
